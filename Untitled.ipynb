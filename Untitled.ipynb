{
 "cells": [
  {
   "cell_type": "markdown",
   "id": "4532a573",
   "metadata": {},
   "source": [
    "# <p style=\"color:pink;\">import สิ่งที่เราต้องการใช้มา</p>"
   ]
  },
  {
   "cell_type": "code",
   "execution_count": 465,
   "id": "e2668b0a",
   "metadata": {},
   "outputs": [],
   "source": [
    "import pandas as pd\n",
    "import numpy as np\n",
    "import matplotlib.pyplot as plt\n",
    "from sklearn.naive_bayes import MultinomialNB\n",
    "from sklearn.linear_model import LogisticRegression\n",
    "from sklearn.metrics import accuracy_score,classification_report,confusion_matrix, ConfusionMatrixDisplay\n",
    "from sklearn.pipeline import Pipeline\n",
    "from sklearn.feature_extraction.text import TfidfVectorizer,CountVectorizer,TfidfTransformer\n",
    "from sklearn.model_selection import train_test_split\n",
    "from keras.preprocessing.text import Tokenizer\n",
    "from nltk import FreqDist\n",
    "from nltk.stem import PorterStemmer\n",
    "from nltk import word_tokenize\n",
    "from gensim.parsing.preprocessing import remove_stopwords \n",
    "# from tensorflow.keras.backend import clear_session\n",
    "# clear_session()\n",
    "import random"
   ]
  },
  {
   "cell_type": "markdown",
   "id": "1550249c",
   "metadata": {},
   "source": [
    "# <p style=\"color:pink;\">นำข้อมูลไฟล์ csv มาใส่ไว้ใน dataframe</p>"
   ]
  },
  {
   "cell_type": "code",
   "execution_count": 466,
   "id": "d873eb0c",
   "metadata": {},
   "outputs": [],
   "source": [
    "\n",
    "df = pd.read_csv(r'CNN_Articels_clean.csv',usecols=['Category','Article text'])"
   ]
  },
  {
   "attachments": {},
   "cell_type": "markdown",
   "id": "30f42fab",
   "metadata": {},
   "source": [
    "# <p style=\"color:pink;\">ดูข้อมูลคร่าวๆ ดูจำนวนคลาสทั้งหมด</p>"
   ]
  },
  {
   "cell_type": "code",
   "execution_count": 467,
   "id": "bdc01ad7",
   "metadata": {},
   "outputs": [
    {
     "name": "stdout",
     "output_type": "stream",
     "text": [
      "37949\n",
      "Index(['Category', 'Article text'], dtype='object')\n",
      "Class :\t ['business' 'entertainment' 'health' 'news' 'politics' 'sport' 'style'\n",
      " 'travel' 'vr'] จำนวน class : 9\n"
     ]
    },
    {
     "data": {
      "text/html": [
       "<div>\n",
       "<style scoped>\n",
       "    .dataframe tbody tr th:only-of-type {\n",
       "        vertical-align: middle;\n",
       "    }\n",
       "\n",
       "    .dataframe tbody tr th {\n",
       "        vertical-align: top;\n",
       "    }\n",
       "\n",
       "    .dataframe thead th {\n",
       "        text-align: right;\n",
       "    }\n",
       "</style>\n",
       "<table border=\"1\" class=\"dataframe\">\n",
       "  <thead>\n",
       "    <tr style=\"text-align: right;\">\n",
       "      <th></th>\n",
       "      <th>Category</th>\n",
       "      <th>Article text</th>\n",
       "    </tr>\n",
       "  </thead>\n",
       "  <tbody>\n",
       "    <tr>\n",
       "      <th>0</th>\n",
       "      <td>news</td>\n",
       "      <td>(CNN)Right now, there's a shortage of truck d...</td>\n",
       "    </tr>\n",
       "    <tr>\n",
       "      <th>1</th>\n",
       "      <td>news</td>\n",
       "      <td>(CNN)Working in a factory or warehouse can me...</td>\n",
       "    </tr>\n",
       "    <tr>\n",
       "      <th>2</th>\n",
       "      <td>news</td>\n",
       "      <td>(CNN)In a Hong Kong warehouse, a swarm of aut...</td>\n",
       "    </tr>\n",
       "    <tr>\n",
       "      <th>3</th>\n",
       "      <td>business</td>\n",
       "      <td>The pandemic thrust the working world into a n...</td>\n",
       "    </tr>\n",
       "    <tr>\n",
       "      <th>4</th>\n",
       "      <td>business</td>\n",
       "      <td>New York (CNN Business)March Madness isn't jus...</td>\n",
       "    </tr>\n",
       "  </tbody>\n",
       "</table>\n",
       "</div>"
      ],
      "text/plain": [
       "   Category                                       Article text\n",
       "0      news   (CNN)Right now, there's a shortage of truck d...\n",
       "1      news   (CNN)Working in a factory or warehouse can me...\n",
       "2      news   (CNN)In a Hong Kong warehouse, a swarm of aut...\n",
       "3  business  The pandemic thrust the working world into a n...\n",
       "4  business  New York (CNN Business)March Madness isn't jus..."
      ]
     },
     "execution_count": 467,
     "metadata": {},
     "output_type": "execute_result"
    }
   ],
   "source": [
    "# จำนวนข้อมูลทั้ง\n",
    "print(len(df))\n",
    "print(df.keys())\n",
    "print(\"Class :\\t\",np.unique(df['Category']),\"จำนวน class :\",len(np.unique(df['Category'])))\n",
    "df.head()\n"
   ]
  },
  {
   "cell_type": "markdown",
   "id": "9171a062",
   "metadata": {},
   "source": [
    "# <p style=\"color:pink;\">plot ข้อมูลมาดู จะเห็นว่า news กับ sport bias สูง</p>"
   ]
  },
  {
   "cell_type": "code",
   "execution_count": 468,
   "id": "e1def8c5",
   "metadata": {},
   "outputs": [
    {
     "data": {
      "text/plain": [
       "<AxesSubplot:xlabel='Category'>"
      ]
     },
     "execution_count": 468,
     "metadata": {},
     "output_type": "execute_result"
    },
    {
     "data": {
      "image/png": "[encoded data removed]",
      "text/plain": [
       "<Figure size 432x288 with 1 Axes>"
      ]
     },
     "metadata": {
      "needs_background": "light"
     },
     "output_type": "display_data"
    }
   ],
   "source": [
    "# ข้อมูล bias สูง\n",
    "df.groupby('Category').count().plot(kind='bar')"
   ]
  },
  {
   "cell_type": "markdown",
   "id": "a180a420",
   "metadata": {},
   "source": [
    "# <p style=\"color:pink;\">ตัดข้อมูลที่อยู่ใน news,style,travel,vr ออกไปให้หมด เพราะ news มันไม่สื่อค่า ส่วนตัวอื่นข้อมูลมันก็น้อยเกินไป</p>"
   ]
  },
  {
   "cell_type": "code",
   "execution_count": 469,
   "id": "efc8ec28",
   "metadata": {},
   "outputs": [],
   "source": [
    "# ตัด news ออกไปเพราะไม่รู้ว่ามันคืออะไร ?\n",
    "df = df.drop(df.index[df['Category'].isin(['news'])])\n",
    "df = df.drop(df.index[df['Category'].isin(['style'])])\n",
    "df = df.drop(df.index[df['Category'].isin(['travel'])])\n",
    "df = df.drop(df.index[df['Category'].isin(['vr'])])\n"
   ]
  },
  {
   "cell_type": "markdown",
   "id": "70bcc3c3",
   "metadata": {},
   "source": [
    "# <p style=\"color:pink;\">ดูข้อมูลว่ามีตัวที่เป็น null ไหม</p>"
   ]
  },
  {
   "cell_type": "code",
   "execution_count": 470,
   "id": "4c9e8cb1",
   "metadata": {},
   "outputs": [
    {
     "data": {
      "text/html": [
       "<div>\n",
       "<style scoped>\n",
       "    .dataframe tbody tr th:only-of-type {\n",
       "        vertical-align: middle;\n",
       "    }\n",
       "\n",
       "    .dataframe tbody tr th {\n",
       "        vertical-align: top;\n",
       "    }\n",
       "\n",
       "    .dataframe thead th {\n",
       "        text-align: right;\n",
       "    }\n",
       "</style>\n",
       "<table border=\"1\" class=\"dataframe\">\n",
       "  <thead>\n",
       "    <tr style=\"text-align: right;\">\n",
       "      <th></th>\n",
       "      <th>0</th>\n",
       "    </tr>\n",
       "  </thead>\n",
       "  <tbody>\n",
       "    <tr>\n",
       "      <th>Category</th>\n",
       "      <td>0</td>\n",
       "    </tr>\n",
       "    <tr>\n",
       "      <th>Article text</th>\n",
       "      <td>1</td>\n",
       "    </tr>\n",
       "  </tbody>\n",
       "</table>\n",
       "</div>"
      ],
      "text/plain": [
       "              0\n",
       "Category      0\n",
       "Article text  1"
      ]
     },
     "execution_count": 470,
     "metadata": {},
     "output_type": "execute_result"
    }
   ],
   "source": [
    "# ข้อมูลมี Nan มั้ย\n",
    "df.isnull().sum().to_frame()"
   ]
  },
  {
   "cell_type": "markdown",
   "id": "421b5d0a",
   "metadata": {},
   "source": [
    "# <p style=\"color:pink;\">ดูว่าข้อมูลตรง Article text มีตัวที่ซ้ำกันไหม และตัดทิ้ง</p>"
   ]
  },
  {
   "cell_type": "code",
   "execution_count": 471,
   "id": "543936fb",
   "metadata": {},
   "outputs": [
    {
     "name": "stdout",
     "output_type": "stream",
     "text": [
      "18\n",
      "0\n"
     ]
    }
   ],
   "source": [
    "print(df['Article text'].duplicated().sum())\n",
    "df.drop_duplicates(subset=['Article text'],keep='first',inplace=True)\n",
    "print(df['Article text'].duplicated().sum())"
   ]
  },
  {
   "cell_type": "code",
   "execution_count": 472,
   "id": "3f03e05b",
   "metadata": {},
   "outputs": [
    {
     "data": {
      "text/plain": [
       "19809"
      ]
     },
     "execution_count": 472,
     "metadata": {},
     "output_type": "execute_result"
    }
   ],
   "source": [
    "len(df)"
   ]
  },
  {
   "cell_type": "markdown",
   "id": "b76823f9",
   "metadata": {},
   "source": [
    "# <p style=\"color:pink;\">ทำการตัดข้อมูลให้อยู่ในระดับใกล้ๆกันเพื่อลดความ bias</p>"
   ]
  },
  {
   "cell_type": "code",
   "execution_count": 473,
   "id": "3f0f3240",
   "metadata": {},
   "outputs": [],
   "source": [
    "d1 = df[df['Category']=='business'].iloc[:500]\n",
    "d2 = df[df['Category']=='entertainment']\n",
    "d3 = df[df['Category']=='health']\n",
    "d4 = df[df['Category']=='politics'].iloc[:500]\n",
    "d5 = df[df['Category']=='sport'].iloc[:500]\n",
    "new_df = pd.concat([d1,d2,d3,d4,d5])"
   ]
  },
  {
   "cell_type": "markdown",
   "id": "177c67b4",
   "metadata": {},
   "source": [
    "# <p style=\"color:pink;\">ดูข้อมูลคร่าวๆ</p>"
   ]
  },
  {
   "cell_type": "code",
   "execution_count": 474,
   "id": "0fef6a40",
   "metadata": {},
   "outputs": [
    {
     "data": {
      "text/html": [
       "<div>\n",
       "<style scoped>\n",
       "    .dataframe tbody tr th:only-of-type {\n",
       "        vertical-align: middle;\n",
       "    }\n",
       "\n",
       "    .dataframe tbody tr th {\n",
       "        vertical-align: top;\n",
       "    }\n",
       "\n",
       "    .dataframe thead tr th {\n",
       "        text-align: left;\n",
       "    }\n",
       "\n",
       "    .dataframe thead tr:last-of-type th {\n",
       "        text-align: right;\n",
       "    }\n",
       "</style>\n",
       "<table border=\"1\" class=\"dataframe\">\n",
       "  <thead>\n",
       "    <tr>\n",
       "      <th></th>\n",
       "      <th colspan=\"4\" halign=\"left\">Article text</th>\n",
       "    </tr>\n",
       "    <tr>\n",
       "      <th></th>\n",
       "      <th>count</th>\n",
       "      <th>unique</th>\n",
       "      <th>top</th>\n",
       "      <th>freq</th>\n",
       "    </tr>\n",
       "    <tr>\n",
       "      <th>Category</th>\n",
       "      <th></th>\n",
       "      <th></th>\n",
       "      <th></th>\n",
       "      <th></th>\n",
       "    </tr>\n",
       "  </thead>\n",
       "  <tbody>\n",
       "    <tr>\n",
       "      <th>business</th>\n",
       "      <td>500</td>\n",
       "      <td>500</td>\n",
       "      <td>New Delhi (CNN Business)India's stock market c...</td>\n",
       "      <td>1</td>\n",
       "    </tr>\n",
       "    <tr>\n",
       "      <th>entertainment</th>\n",
       "      <td>413</td>\n",
       "      <td>413</td>\n",
       "      <td>Story highlightsPaul McCartney honors Ringo St...</td>\n",
       "      <td>1</td>\n",
       "    </tr>\n",
       "    <tr>\n",
       "      <th>health</th>\n",
       "      <td>557</td>\n",
       "      <td>557</td>\n",
       "      <td>Story highlightsSix years ago, 11-year-old Mar...</td>\n",
       "      <td>1</td>\n",
       "    </tr>\n",
       "    <tr>\n",
       "      <th>politics</th>\n",
       "      <td>500</td>\n",
       "      <td>500</td>\n",
       "      <td>A version of this story appeared in CNN's What...</td>\n",
       "      <td>1</td>\n",
       "    </tr>\n",
       "    <tr>\n",
       "      <th>sport</th>\n",
       "      <td>500</td>\n",
       "      <td>500</td>\n",
       "      <td>(CNN)University of Pennsylvania swimmer Lia T...</td>\n",
       "      <td>1</td>\n",
       "    </tr>\n",
       "  </tbody>\n",
       "</table>\n",
       "</div>"
      ],
      "text/plain": [
       "              Article text         \\\n",
       "                     count unique   \n",
       "Category                            \n",
       "business               500    500   \n",
       "entertainment          413    413   \n",
       "health                 557    557   \n",
       "politics               500    500   \n",
       "sport                  500    500   \n",
       "\n",
       "                                                                       \n",
       "                                                             top freq  \n",
       "Category                                                               \n",
       "business       New Delhi (CNN Business)India's stock market c...    1  \n",
       "entertainment  Story highlightsPaul McCartney honors Ringo St...    1  \n",
       "health         Story highlightsSix years ago, 11-year-old Mar...    1  \n",
       "politics       A version of this story appeared in CNN's What...    1  \n",
       "sport           (CNN)University of Pennsylvania swimmer Lia T...    1  "
      ]
     },
     "execution_count": 474,
     "metadata": {},
     "output_type": "execute_result"
    }
   ],
   "source": [
    "new_df.groupby('Category').describe()"
   ]
  },
  {
   "attachments": {},
   "cell_type": "markdown",
   "id": "16a9d9bd",
   "metadata": {},
   "source": [
    "# <p style=\"color:pink;\">ทำการเพิ่มคอลัมน์ใน dataframe โดยต่อเป็น length ของประโยค</p>"
   ]
  },
  {
   "cell_type": "code",
   "execution_count": 475,
   "id": "dde092fd",
   "metadata": {},
   "outputs": [],
   "source": [
    "new_df['length']= new_df['Article text'].apply(len)\n"
   ]
  },
  {
   "cell_type": "markdown",
   "id": "c50e2bfd",
   "metadata": {},
   "source": [
    "# <p style=\"color:pink;\">สุ่มข้อมูลออกมาดู 5 ตัวอย่าง</p>"
   ]
  },
  {
   "cell_type": "code",
   "execution_count": 476,
   "id": "09e9c7f4",
   "metadata": {},
   "outputs": [
    {
     "data": {
      "text/html": [
       "<div>\n",
       "<style scoped>\n",
       "    .dataframe tbody tr th:only-of-type {\n",
       "        vertical-align: middle;\n",
       "    }\n",
       "\n",
       "    .dataframe tbody tr th {\n",
       "        vertical-align: top;\n",
       "    }\n",
       "\n",
       "    .dataframe thead th {\n",
       "        text-align: right;\n",
       "    }\n",
       "</style>\n",
       "<table border=\"1\" class=\"dataframe\">\n",
       "  <thead>\n",
       "    <tr style=\"text-align: right;\">\n",
       "      <th></th>\n",
       "      <th>Category</th>\n",
       "      <th>Article text</th>\n",
       "      <th>length</th>\n",
       "    </tr>\n",
       "  </thead>\n",
       "  <tbody>\n",
       "    <tr>\n",
       "      <th>784</th>\n",
       "      <td>business</td>\n",
       "      <td>London (CNN Business)Japan has the oldest popu...</td>\n",
       "      <td>5782</td>\n",
       "    </tr>\n",
       "    <tr>\n",
       "      <th>355</th>\n",
       "      <td>sport</td>\n",
       "      <td>(CNN)Tickets for the upcoming Winter Olympic ...</td>\n",
       "      <td>2358</td>\n",
       "    </tr>\n",
       "    <tr>\n",
       "      <th>2753</th>\n",
       "      <td>sport</td>\n",
       "      <td>(CNN)The way horses see the world is almost e...</td>\n",
       "      <td>7768</td>\n",
       "    </tr>\n",
       "    <tr>\n",
       "      <th>194</th>\n",
       "      <td>politics</td>\n",
       "      <td>(CNN)A Democratic group says it filed a compl...</td>\n",
       "      <td>2930</td>\n",
       "    </tr>\n",
       "    <tr>\n",
       "      <th>4139</th>\n",
       "      <td>sport</td>\n",
       "      <td>(CNN)He's enjoyed the summer of a lifetime, a...</td>\n",
       "      <td>6067</td>\n",
       "    </tr>\n",
       "  </tbody>\n",
       "</table>\n",
       "</div>"
      ],
      "text/plain": [
       "      Category                                       Article text  length\n",
       "784   business  London (CNN Business)Japan has the oldest popu...    5782\n",
       "355      sport   (CNN)Tickets for the upcoming Winter Olympic ...    2358\n",
       "2753     sport   (CNN)The way horses see the world is almost e...    7768\n",
       "194   politics   (CNN)A Democratic group says it filed a compl...    2930\n",
       "4139     sport   (CNN)He's enjoyed the summer of a lifetime, a...    6067"
      ]
     },
     "execution_count": 476,
     "metadata": {},
     "output_type": "execute_result"
    }
   ],
   "source": [
    "new_df.sample(5)"
   ]
  },
  {
   "cell_type": "code",
   "execution_count": 477,
   "id": "ded084aa",
   "metadata": {},
   "outputs": [
    {
     "data": {
      "text/html": [
       "<div>\n",
       "<style scoped>\n",
       "    .dataframe tbody tr th:only-of-type {\n",
       "        vertical-align: middle;\n",
       "    }\n",
       "\n",
       "    .dataframe tbody tr th {\n",
       "        vertical-align: top;\n",
       "    }\n",
       "\n",
       "    .dataframe thead th {\n",
       "        text-align: right;\n",
       "    }\n",
       "</style>\n",
       "<table border=\"1\" class=\"dataframe\">\n",
       "  <thead>\n",
       "    <tr style=\"text-align: right;\">\n",
       "      <th></th>\n",
       "      <th>count</th>\n",
       "      <th>mean</th>\n",
       "      <th>std</th>\n",
       "      <th>min</th>\n",
       "      <th>25%</th>\n",
       "      <th>50%</th>\n",
       "      <th>75%</th>\n",
       "      <th>max</th>\n",
       "    </tr>\n",
       "    <tr>\n",
       "      <th>Category</th>\n",
       "      <th></th>\n",
       "      <th></th>\n",
       "      <th></th>\n",
       "      <th></th>\n",
       "      <th></th>\n",
       "      <th></th>\n",
       "      <th></th>\n",
       "      <th></th>\n",
       "    </tr>\n",
       "  </thead>\n",
       "  <tbody>\n",
       "    <tr>\n",
       "      <th>business</th>\n",
       "      <td>500.0</td>\n",
       "      <td>6250.388000</td>\n",
       "      <td>4470.703375</td>\n",
       "      <td>929.0</td>\n",
       "      <td>3542.00</td>\n",
       "      <td>4859.0</td>\n",
       "      <td>7247.50</td>\n",
       "      <td>31173.0</td>\n",
       "    </tr>\n",
       "    <tr>\n",
       "      <th>entertainment</th>\n",
       "      <td>413.0</td>\n",
       "      <td>5178.508475</td>\n",
       "      <td>7481.705409</td>\n",
       "      <td>542.0</td>\n",
       "      <td>1659.00</td>\n",
       "      <td>2972.0</td>\n",
       "      <td>4842.00</td>\n",
       "      <td>56557.0</td>\n",
       "    </tr>\n",
       "    <tr>\n",
       "      <th>health</th>\n",
       "      <td>557.0</td>\n",
       "      <td>8464.265709</td>\n",
       "      <td>7727.664249</td>\n",
       "      <td>720.0</td>\n",
       "      <td>4846.00</td>\n",
       "      <td>6550.0</td>\n",
       "      <td>9514.00</td>\n",
       "      <td>110663.0</td>\n",
       "    </tr>\n",
       "    <tr>\n",
       "      <th>politics</th>\n",
       "      <td>500.0</td>\n",
       "      <td>6901.512000</td>\n",
       "      <td>4702.301644</td>\n",
       "      <td>463.0</td>\n",
       "      <td>3730.25</td>\n",
       "      <td>5559.0</td>\n",
       "      <td>8932.75</td>\n",
       "      <td>39223.0</td>\n",
       "    </tr>\n",
       "    <tr>\n",
       "      <th>sport</th>\n",
       "      <td>500.0</td>\n",
       "      <td>5889.888000</td>\n",
       "      <td>3983.732443</td>\n",
       "      <td>441.0</td>\n",
       "      <td>2976.75</td>\n",
       "      <td>4762.5</td>\n",
       "      <td>7838.75</td>\n",
       "      <td>26379.0</td>\n",
       "    </tr>\n",
       "  </tbody>\n",
       "</table>\n",
       "</div>"
      ],
      "text/plain": [
       "               count         mean          std    min      25%     50%  \\\n",
       "Category                                                                 \n",
       "business       500.0  6250.388000  4470.703375  929.0  3542.00  4859.0   \n",
       "entertainment  413.0  5178.508475  7481.705409  542.0  1659.00  2972.0   \n",
       "health         557.0  8464.265709  7727.664249  720.0  4846.00  6550.0   \n",
       "politics       500.0  6901.512000  4702.301644  463.0  3730.25  5559.0   \n",
       "sport          500.0  5889.888000  3983.732443  441.0  2976.75  4762.5   \n",
       "\n",
       "                   75%       max  \n",
       "Category                          \n",
       "business       7247.50   31173.0  \n",
       "entertainment  4842.00   56557.0  \n",
       "health         9514.00  110663.0  \n",
       "politics       8932.75   39223.0  \n",
       "sport          7838.75   26379.0  "
      ]
     },
     "execution_count": 477,
     "metadata": {},
     "output_type": "execute_result"
    }
   ],
   "source": [
    "new_df.groupby(['Category'])['length'].describe()"
   ]
  },
  {
   "cell_type": "code",
   "execution_count": null,
   "id": "5449a3c0",
   "metadata": {},
   "outputs": [],
   "source": []
  },
  {
   "cell_type": "markdown",
   "id": "c7fb9397",
   "metadata": {},
   "source": [
    "# <p style=\"color:pink;\">นำข้อมูลมา plot จะเห็นได้ว่า bias น้อยกว่าเดิมแบบมากๆ</p>"
   ]
  },
  {
   "cell_type": "code",
   "execution_count": 478,
   "id": "4a2cd2ba",
   "metadata": {},
   "outputs": [
    {
     "data": {
      "text/plain": [
       "<AxesSubplot:xlabel='Category'>"
      ]
     },
     "execution_count": 478,
     "metadata": {},
     "output_type": "execute_result"
    },
    {
     "data": {
      "image/png": "[encoded data removed]",
      "text/plain": [
       "<Figure size 432x288 with 1 Axes>"
      ]
     },
     "metadata": {
      "needs_background": "light"
     },
     "output_type": "display_data"
    }
   ],
   "source": [
    "new_df.groupby(['Category']).count().plot(kind='bar')"
   ]
  },
  {
   "cell_type": "code",
   "execution_count": 479,
   "id": "9efd91a4",
   "metadata": {},
   "outputs": [],
   "source": [
    "# ความยาวประโยค"
   ]
  },
  {
   "cell_type": "markdown",
   "id": "aa181fe8",
   "metadata": {},
   "source": [
    "### PREPARE DATA "
   ]
  },
  {
   "cell_type": "markdown",
   "id": "bafb5e75",
   "metadata": {},
   "source": [
    "# <p style=\"color:pink;\">สร้าง method ตัด stop word and symbols</p>"
   ]
  },
  {
   "cell_type": "code",
   "execution_count": 480,
   "id": "73f5b375",
   "metadata": {},
   "outputs": [],
   "source": [
    "def preprocess_text(text):\n",
    "    text_nor = text.map(remove_stopwords).map(word_tokenize)\n",
    "    word_seg =[]\n",
    "    for word in text_nor:\n",
    "        strr =''\n",
    "        for word2 in word:\n",
    "            if word2.isalpha():\n",
    "                strr +=''.join(word2)+' '\n",
    "        word_seg.append(strr)\n",
    "\n",
    "    return word_seg"
   ]
  },
  {
   "attachments": {},
   "cell_type": "markdown",
   "id": "6dbdd589",
   "metadata": {},
   "source": [
    "# <p style=\"color:pink;\">ต่อคอลัมน์ให้ dataframe ด้วยข้อมูลที่ตัด stopword and symbols แล้ว</p>"
   ]
  },
  {
   "cell_type": "code",
   "execution_count": 481,
   "id": "40257917",
   "metadata": {},
   "outputs": [],
   "source": [
    "new_df['Clean_text'] = preprocess_text(new_df['Article text'])"
   ]
  },
  {
   "cell_type": "markdown",
   "id": "1b0a3361",
   "metadata": {},
   "source": [
    "# <p style=\"color:pink;\">ต่อ dataframe ด้วยข้อมูลที่เข้ารหัส เช่น business ก็เข้ารหัสเป็น 0</p>"
   ]
  },
  {
   "cell_type": "code",
   "execution_count": 482,
   "id": "530c84a0",
   "metadata": {},
   "outputs": [],
   "source": [
    "new_df['new_class'] = pd.factorize(new_df['Category'])[0]"
   ]
  },
  {
   "cell_type": "code",
   "execution_count": 483,
   "id": "b2f6ea96",
   "metadata": {},
   "outputs": [
    {
     "data": {
      "text/html": [
       "<div>\n",
       "<style scoped>\n",
       "    .dataframe tbody tr th:only-of-type {\n",
       "        vertical-align: middle;\n",
       "    }\n",
       "\n",
       "    .dataframe tbody tr th {\n",
       "        vertical-align: top;\n",
       "    }\n",
       "\n",
       "    .dataframe thead th {\n",
       "        text-align: right;\n",
       "    }\n",
       "</style>\n",
       "<table border=\"1\" class=\"dataframe\">\n",
       "  <thead>\n",
       "    <tr style=\"text-align: right;\">\n",
       "      <th></th>\n",
       "      <th>Category</th>\n",
       "      <th>Article text</th>\n",
       "      <th>length</th>\n",
       "      <th>Clean_text</th>\n",
       "      <th>new_class</th>\n",
       "    </tr>\n",
       "  </thead>\n",
       "  <tbody>\n",
       "    <tr>\n",
       "      <th>3</th>\n",
       "      <td>business</td>\n",
       "      <td>The pandemic thrust the working world into a n...</td>\n",
       "      <td>14951</td>\n",
       "      <td>The pandemic thrust working world new reality ...</td>\n",
       "      <td>0</td>\n",
       "    </tr>\n",
       "    <tr>\n",
       "      <th>4</th>\n",
       "      <td>business</td>\n",
       "      <td>New York (CNN Business)March Madness isn't jus...</td>\n",
       "      <td>2805</td>\n",
       "      <td>New York CNN Business March Madness is college...</td>\n",
       "      <td>0</td>\n",
       "    </tr>\n",
       "    <tr>\n",
       "      <th>5</th>\n",
       "      <td>business</td>\n",
       "      <td>A version of this story first appeared in CNN ...</td>\n",
       "      <td>6775</td>\n",
       "      <td>A version story appeared CNN Business Before B...</td>\n",
       "      <td>0</td>\n",
       "    </tr>\n",
       "    <tr>\n",
       "      <th>6</th>\n",
       "      <td>business</td>\n",
       "      <td>New York (CNN Business)Governments around the ...</td>\n",
       "      <td>2589</td>\n",
       "      <td>New York CNN Business Governments world consid...</td>\n",
       "      <td>0</td>\n",
       "    </tr>\n",
       "    <tr>\n",
       "      <th>7</th>\n",
       "      <td>business</td>\n",
       "      <td>This interview has been edited from its origin...</td>\n",
       "      <td>7868</td>\n",
       "      <td>This interview edited original version It orig...</td>\n",
       "      <td>0</td>\n",
       "    </tr>\n",
       "  </tbody>\n",
       "</table>\n",
       "</div>"
      ],
      "text/plain": [
       "   Category                                       Article text  length  \\\n",
       "3  business  The pandemic thrust the working world into a n...   14951   \n",
       "4  business  New York (CNN Business)March Madness isn't jus...    2805   \n",
       "5  business  A version of this story first appeared in CNN ...    6775   \n",
       "6  business  New York (CNN Business)Governments around the ...    2589   \n",
       "7  business  This interview has been edited from its origin...    7868   \n",
       "\n",
       "                                          Clean_text  new_class  \n",
       "3  The pandemic thrust working world new reality ...          0  \n",
       "4  New York CNN Business March Madness is college...          0  \n",
       "5  A version story appeared CNN Business Before B...          0  \n",
       "6  New York CNN Business Governments world consid...          0  \n",
       "7  This interview edited original version It orig...          0  "
      ]
     },
     "execution_count": 483,
     "metadata": {},
     "output_type": "execute_result"
    }
   ],
   "source": [
    "new_df.head()"
   ]
  },
  {
   "cell_type": "markdown",
   "id": "f032fa75",
   "metadata": {},
   "source": [
    "ควรใช้คำศัพท์เท่าไหร่"
   ]
  },
  {
   "cell_type": "code",
   "execution_count": 484,
   "id": "2feb6d8d",
   "metadata": {},
   "outputs": [],
   "source": [
    "# word = FreqDist(new_df[['clean_text']][0:])\n",
    "# print(word.most_common(50))"
   ]
  },
  {
   "cell_type": "markdown",
   "id": "eff37e5d",
   "metadata": {},
   "source": [
    "# <p style=\"color:pink;\">ทำการแบ่งข้อมูลที่จะไป train,test</p>"
   ]
  },
  {
   "cell_type": "code",
   "execution_count": 485,
   "id": "2afaf1a9",
   "metadata": {},
   "outputs": [],
   "source": [
    "X_train,X_test,y_train,y_test = train_test_split(new_df['Clean_text'],new_df['new_class'],test_size=0.25,random_state=2)"
   ]
  },
  {
   "cell_type": "code",
   "execution_count": 486,
   "id": "b02635b0",
   "metadata": {},
   "outputs": [],
   "source": [
    "X_trainER,X_testER,y_trainER,y_testER = train_test_split(new_df['Article text'],new_df['new_class'],test_size=0.25,random_state=2)"
   ]
  },
  {
   "cell_type": "code",
   "execution_count": 487,
   "id": "22fcf19e",
   "metadata": {},
   "outputs": [
    {
     "data": {
      "text/plain": [
       "'CNN Any doubts Alex Honnold greatest rock climber time doused American thought humanly June person climb Californian granite monolith El Capitan ropes skill known free soloing Situated Yosemite National Park USA gargantuan rock face soars feet air standing feet taller Burj Khalifa world tallest simply room error If slips falls If falls dies When I know I I climbing well feels meditative kind relaxing beautiful Honnold told CNN MoreHis achievement immortalized breathtaking National Geographic documentary Free Solo won Best Documentary year Oscars Alex Honnold climbed El Capitan Yosemite National Park Ross Edgley goosebumps tears perfectionFree solo climbing game It death perfection But moments risk adrenaline enemy The important able climb El Cap feel slightly normal feel slightly business usual said remembering moments began climb For look wall think I going climb like I usually climb this I do rope on Honnold seemingly blase approach challenges disconcerting scratch surface understand it attitude built foundation preparation If I do know I I hesitate nightmare warned El Capitan centre rock climbing world The truth choreographed Each foot hold mapped months advance thumb grip visualized hundreds times The trick falling leaving chance training mind possible outcome A bigger mental challenge physicalAlex Honnold It definitely bigger mental challenge physical said explaining climbed rock face multiple times harnesses attached But idea rope step seems Boulder problem Honnold chose climb southwest face wall familiar route known Freerider split different pitches But particular route included perilous sequence spooked seemingly unflappable Honnold Boulder Problem The section involves number intricate movements Honnold clinging ledges feet meadow culminates karate kick opposing wall life depends makes contact ledge Every climb choreographed READ Kilian Jornet like meditation It beautiful feel small I think section route had existed I probably soloed El Cap years sooner said Honnold practiced particular section times ropes falling number occasions However thing section daunting turned advantage time Honnold reached rhythm He confident I climbing I deeply zone said talking delicate sequence moves I performing time I got I felt incredible I executed perfectly Honnold started climbing indoor gyms child Sprint finishAfter successfully navigating near impossible Boulder Problem Honnold started breathe little easier long way go The final stretch represented hardest climbs Honnold attempted going stop now My confidence soaring I felt greatAlex Honnold My confidence soaring I felt great said Conditions perfect I kind knew I it As approached summit realization achieve started break focus The final stages El Cap got easier easier What terrifying beautiful experience Honnold sprinted finish lifting summit hours minutes climbing It incredible laughed Honnold able enjoy final stretch climb Why ropes The unfathomable climb nearly years making Growing Californian suburbs Honnold started scaling indoor climbing walls local gym child In ways struggled socializing youngster able express climbing gradually transitioning outdoor climbing sought new challenges Moving free soloing climbing ropes natural progression It important rock climbing me said It was climbing me It climbing it free soloing it awesome it fun The American lives vegetarian diet READ Anna Gasser I took I knew way back says snowboarderLiving traveling small van Honnold spent days climbing getting better confident started completing increasingly impressive feats El Cap monolith regarded pinnacle rock climbing making history person scale ropes certainly appealed simply wanted experience it I sure astronaut wants opportunity walk moon you human moon it incredible thing said But I sure tenth astronaut excited way Some Honnold friends died tackling lesser challenges It stark reality does sit girlfriend Sanni McCandless left Honnold days running climb It like right us We talk it said It useful time lay visualize imagine emotionally process come Honnold girlfriend Sanni McCandless attempting free solo El bodyWhen consider mental fortitude required it easy ignore physical strain climb puts body On section wall Monster Offwidth Honnold squeezes body vertical crack wriggles way crevice No flashy gym equipment prepare Honnold physique etched thousands hours climbing hands strengthened days clinging rock faces Standing little feet tall powered mainly vegetarian diet Honnold body conditioned solely climbing Honnold lives travels small van year His mind adapted documentary Honnold undergoes MRI scan shows amygdala brain processes fear stimulated usual way I free soloing scary I startedAlex HonnoldHonnold believes he desensitized years climbing open suggestion he innately susceptible fear I free soloing scary I started I exhilarating right way said Possibly people way scarier satisfying willing time effort ratio right He likens previous fear public speaking As young man Honnold struggled large groups thought media tour previously horrified him But like climbing El Cap Honnold way overcome negative thoughts A film crew documented Honnold incredible feat Free Solo The documentary Directed Elizabeth Chai Vasarhelyi Jimmy Chin Free Solo follows Honnold years prepares climb keeping cameras distance imperative order Honnold safe allow experience craving When I passed cameramen wall nice able friends celebrate them said Most filming high route I finished harder sections It feel like celebration Despite global success film achievement personal one When I old man I sit El Cap meadow wall I look wall I going feel satisfaction knowing I dream years tonne work eventually able accomplish it said SOLO coming National Geographic March '"
      ]
     },
     "execution_count": 487,
     "metadata": {},
     "output_type": "execute_result"
    }
   ],
   "source": [
    "X_train.iloc[2]"
   ]
  },
  {
   "cell_type": "code",
   "execution_count": 488,
   "id": "40b811f4",
   "metadata": {},
   "outputs": [
    {
     "data": {
      "text/plain": [
       "' (CNN)Any doubts as to whether Alex Honnold was the greatest rock climber of all time were doused when the American did something that no one thought was humanly possible.In June 2017, the 33-year-old became the first person to climb Californian granite monolith El Capitan without any ropes -- a skill known as free soloing. Situated in Yosemite National Park, USA, the gargantuan rock face soars 3,200 feet into the air, standing almost 500 feet taller than the Burj Khalifa -- the world\\'s tallest building.There is simply no room for error. If he slips, he falls. If he falls, he dies.\"When I know what I\\'m doing and I\\'m climbing well, then it feels meditative, kind of relaxing and beautiful,\" Honnold told CNN Sport.Read MoreHis achievement has since been immortalized in a breathtaking BAFTA-winning National Geographic documentary \"Free Solo,\" which won Best Documentary at this year\\'s Oscars. Alex Honnold climbed El Capitan in Yosemite National Park -- without ropes.READ: Ross Edgley -- \\'It was goosebumps upon tears, upon smiles\\'Death or perfectionFree solo climbing is a high-stakes game. It\\'s either death or perfection. But in moments of such risk, adrenaline is often the enemy. \"The important part of being able to climb El Cap was for it to feel slightly normal, for it to feel slightly business as usual,\" he said, remembering the moments he began the climb.  \"For me to look up at the wall and to think I\\'m just going to climb this like I usually climb this, even though I don\\'t have a rope on.\"Honnold\\'s seemingly blase approach to such death-defying challenges can be disconcerting at first but scratch under the surface and you understand it\\'s an attitude built on a foundation of hard-work and preparation. \"If I don\\'t know what I\\'m doing and I hesitate then it can be a nightmare,\" he warned. El Capitan is at the centre of the rock climbing world. The truth is that every move is choreographed. Each foot hold has been mapped out months in advance, every thumb grip visualized hundreds of times. The trick to not falling, is not leaving anything to chance and training your mind for every possible outcome. A bigger mental challenge than it is physicalAlex Honnold\"It\\'s definitely a bigger mental challenge than it is physical,\" he said, explaining that he and many others have climbed the rock face multiple times with harnesses attached. \"But the idea of doing it without a rope is a step further it seems.\"Boulder problem Honnold chose to climb the southwest face of the wall, a familiar route known as Freerider, which is split into 30 different pitches. But this particular route included a perilous sequence which spooked the seemingly unflappable Honnold -- the Boulder Problem. The section involves a number of intricate movements with Honnold clinging onto pea-sized ledges 2,000 feet above the meadow below.It culminates in a vertigo-inducing karate kick to an opposing wall, where his life depends on whether he makes contact with a toe-sized ledge. Every move of the climb has been choreographed. READ: Kilian Jornet -- \\'It\\'s like meditation. It\\'s beautiful to feel that small.\"\"I think if that section of the route hadn\\'t existed [...], I probably would have soloed El Cap several years sooner,\" said Honnold, who had practiced that particular section 60 times with ropes -- falling on a number of occasions. However, the very thing that made this section so daunting turned out to be an advantage because by the time Honnold had reached it he had found his rhythm. He was confident. \"I had done so much climbing, I was so deeply in the zone,\" he said, talking through the delicate sequence of moves.\"I was performing so well that by the time I got there I felt incredible and I just executed it perfectly.\"Honnold started climbing in indoor gyms as a child. Sprint finishAfter successfully navigating the near impossible Boulder Problem, Honnold started to breathe a little easier but he still had a long way to go. The final stretch represented one of the hardest climbs Honnold had ever attempted, but nothing was going to stop him now. My confidence was soaring, I felt greatAlex Honnold\"My confidence was soaring, I felt great,\" he said. \"Conditions were perfect and I kind of knew I had it.\"As he approached the summit, the realization of what he was about to achieve started to break through his steely-eyed focus. The final stages of El Cap got easier and easier. What to many would seem terrifying became a \"beautiful experience\" for Honnold, who sprinted toward the finish, lifting himself over the summit after just three hours and 56 minutes of climbing.\"It was incredible,\" he laughed. Honnold was able to enjoy the final stretch of the climb. Why without ropes? The unfathomable climb was nearly 20 years in the making. Growing up in the Californian suburbs, Honnold had started scaling indoor climbing walls at a local gym as a child. In many ways, it was a sanctuary.Honnold struggled with socializing as a youngster but was able to express himself through climbing, gradually transitioning to outdoor climbing as he sought out new challenges. Moving on to free soloing -- climbing without ropes -- was a natural progression.\"It was an important part of rock climbing for me,\" he said. \"It wasn\\'t all of climbing and never has been to me. It\\'s just one part of climbing but it\\'s free soloing, it\\'s awesome, it\\'s fun.\"The American lives off a mostly vegetarian diet. READ: Anna Gasser -- \\'As I took off I knew there was no way back,\\' says snowboarderLiving and traveling in a small van, Honnold spent his days climbing -- getting better and more confident with each step.He started completing increasingly impressive feats but El Cap was always at the back of his mind.Ascending the monolith is regarded as the pinnacle of rock climbing, so making history by becoming  the first person to scale it without ropes certainly appealed, but he also simply wanted to experience it. \"I\\'m sure every astronaut wants the opportunity to walk on the moon but if you\\'re the first human to ever go to the moon, it\\'s an incredible thing,\" he said.\"But I\\'m sure the tenth astronaut is just as excited in their own way.\" Some of Honnold\\'s friends have died tackling lesser challenges. It\\'s a stark reality that doesn\\'t sit well with his girlfriend, Sanni McCandless, who left Honnold alone in the days running up to the climb. \"It just seemed like the right call for both of us. We never really had to talk about it,\" he said. \"It was useful for me to have empty time to just lay around by myself and visualize or imagine and just emotionally process what was to come.\"Honnold and his girlfriend Sanni McCandless before attempting his free solo of El Cap.Mind and bodyWhen you consider the mental fortitude required, it\\'s easy to ignore the physical strain such a climb puts on a body. On one section of the wall, the Monster Offwidth, Honnold squeezes his body into a vertical crack and wriggles his way up a 200-foot-tall crevice. No flashy gym or high-tech equipment can ever prepare you for such a task.Instead, Honnold\\'s physique has been etched by thousands of hours of climbing and his hands strengthened by days clinging onto rock faces. Standing at a little under 6 feet tall, and powered by a mainly vegetarian diet, Honnold\\'s body is conditioned solely for climbing. Honnold lives and travels in a small van for much of the year. His mind has also adapted accordingly.During the documentary, Honnold undergoes an MRI scan which shows his amygdala -- the part of the brain which processes fear -- is not stimulated in the usual way. I found free soloing scary when I first startedAlex HonnoldHonnold believes he\\'s become desensitized after so many years of climbing but is open to the suggestion that he\\'s innately less susceptible to fear. \"I found free soloing scary when I first started but I also found it exhilarating in the right way,\" he said. \"Possibly, other people find it way scarier and less satisfying so they are never really willing to put the time and effort into it because the ratio is not right.\" He likens it to his previous fear of public speaking. As a young man, Honnold struggled in front of large groups and the thought of doing a media tour would have previously \"horrified\" him. But just like climbing El Cap, Honnold found a way to overcome negative thoughts. A film crew documented Honnold\\'s incredible feat. \"Free Solo\" -- The documentary Directed by award-winning film-makers Elizabeth Chai Vasarhelyi and Jimmy Chin, \"Free Solo\" follows Honnold for more than two years as he prepares for the climb of his life.However, keeping the cameras at a distance was imperative in order to keep Honnold safe and allow him to have the experience he was craving.\"When I passed the cameramen on the wall, it was just really nice to be able to see my friends up there and celebrate with them,\" he said.\"Most of the filming is up high on the route so I had already finished most of the harder sections. It really did feel like a celebration.\" Despite the global success of the film, the achievement will always be a personal one. \"When I\\'m an old man and I sit in El Cap meadow, below the wall and I look up at the wall, I\\'m going to feel the same satisfaction knowing that I\\'ve had a dream for so many years, put a tonne of work into it and eventually was able to accomplish it,\" he said.\\'FREE SOLO is coming to National Geographic on March 03\\''"
      ]
     },
     "execution_count": 488,
     "metadata": {},
     "output_type": "execute_result"
    }
   ],
   "source": [
    "X_trainER.iloc[2]"
   ]
  },
  {
   "cell_type": "markdown",
   "id": "c36de058",
   "metadata": {},
   "source": [
    "# <p style=\"color:pink;\">ทำ bag of word ด้วยวิธี count vectorizer</p>"
   ]
  },
  {
   "cell_type": "code",
   "execution_count": 489,
   "id": "3dc50b97",
   "metadata": {},
   "outputs": [
    {
     "name": "stdout",
     "output_type": "stream",
     "text": [
      "[[0 0 0 ... 0 0 0]\n",
      " [0 0 0 ... 0 0 0]\n",
      " [0 0 0 ... 0 0 0]\n",
      " [0 0 0 ... 0 0 0]\n",
      " [0 0 0 ... 0 0 0]]\n"
     ]
    },
    {
     "data": {
      "text/plain": [
       "((1852, 52334), (618, 52334))"
      ]
     },
     "execution_count": 489,
     "metadata": {},
     "output_type": "execute_result"
    }
   ],
   "source": [
    "# BAG OF WORD countvectorizer\n",
    "vectorizer = CountVectorizer()\n",
    "X_traintf = vectorizer.fit_transform(X_train)\n",
    "X_testtf = vectorizer.transform(X_test)\n",
    "print(X_traintf.toarray()[:5])\n",
    "X_traintf.shape,X_testtf.shape"
   ]
  },
  {
   "cell_type": "markdown",
   "id": "e374ec91",
   "metadata": {},
   "source": [
    "# <p style=\"color:pink;\">ทำ bag of word ด้วยวิธี tfidf</p>"
   ]
  },
  {
   "cell_type": "code",
   "execution_count": 490,
   "id": "b23a0490",
   "metadata": {},
   "outputs": [
    {
     "data": {
      "text/plain": [
       "((1852, 52334), (618, 52334))"
      ]
     },
     "execution_count": 490,
     "metadata": {},
     "output_type": "execute_result"
    }
   ],
   "source": [
    "# TFIDF\n",
    "vectorizer = TfidfVectorizer()\n",
    "X_traintf = vectorizer.fit_transform(X_train)\n",
    "X_testtf = vectorizer.transform(X_test)\n",
    "X_traintf.shape,X_testtf.shape"
   ]
  },
  {
   "cell_type": "markdown",
   "id": "81b2350c",
   "metadata": {},
   "source": [
    "# <p style=\"color:pink;\">machine learning ด้วย model Logistic Regression</p>"
   ]
  },
  {
   "cell_type": "code",
   "execution_count": 491,
   "id": "94743d62",
   "metadata": {},
   "outputs": [],
   "source": [
    "model = LogisticRegression(max_iter=600)\n",
    "model.fit(X_traintf,y_train)\n",
    "yhat=model.predict(X_testtf)"
   ]
  },
  {
   "attachments": {},
   "cell_type": "markdown",
   "id": "a35ff6b9",
   "metadata": {},
   "source": [
    "# <p style=\"color:pink;\">สร้าง method มา 3 ตัว 1)Evaluation เอาไว้วัดประสิทธิภาพของโมเดล 2)ctfc เป็นเมธอดที่เอาไว้เรียก train กับ model ที่เราต้องการ 3)Find_index ปริ้นข้อมูลที่ทำนายแล้วมันไม่ตรงกับข้อมูลจริงๆ</p>"
   ]
  },
  {
   "cell_type": "code",
   "execution_count": 492,
   "id": "8d3cc892",
   "metadata": {},
   "outputs": [],
   "source": [
    "# Evaluation\n",
    "def Evaluation(y_test,yhat,_class):\n",
    "    print(accuracy_score(y_test,yhat).round(2)*100)\n",
    "    print(classification_report(y_test,yhat))\n",
    "    cm = confusion_matrix(y_test, yhat)\n",
    "    disp = ConfusionMatrixDisplay(confusion_matrix=cm,display_labels=_class)\n",
    "    disp.plot()\n",
    "    plt.show()\n",
    "    print()\n",
    "    \n",
    " # test model   \n",
    "def ctfc(X,Xt,Y,Yt,Classifier):\n",
    "    pipe = Pipeline([('count', CountVectorizer()),('tfid', TfidfTransformer()),('classifier',Classifier)]).fit(X,Y)\n",
    "    return pipe\n",
    "\n",
    "# หาว่าตัวไหนทำนายผิด\n",
    "def Find_index(y_true,y_pre):\n",
    "    print('0: business' '\\t1: entertainment' '\\t2: health' '\\t3: politics' '\\t4: sport\\n')\n",
    "    idx = np.where(y_true!=y_pre)\n",
    "    print(\"INDEX :\\t\",end=\"\")\n",
    "    for i in idx[0]:\n",
    "        print(i,end=\"\\t \")\n",
    "    print(\"\\nTRUE :\\t\",end=\"\")\n",
    "    for i in y_true.iloc[idx[0]]:\n",
    "        print(i,end=\"\\t \")\n",
    "    print(\"\\nPRED :\\t\",end=\"\")\n",
    "    for i in y_pre[idx[0]]:\n",
    "        print(i,end=\"\\t \")\n",
    "    print()"
   ]
  },
  {
   "attachments": {},
   "cell_type": "markdown",
   "id": "474f4a5a",
   "metadata": {},
   "source": [
    "# <p style=\"color:pink;\">plot ตารางออกมาดู + ปริ้น index ที่ทำนายผิดมาดู</p>"
   ]
  },
  {
   "cell_type": "code",
   "execution_count": 493,
   "id": "d8358ed0",
   "metadata": {},
   "outputs": [
    {
     "name": "stdout",
     "output_type": "stream",
     "text": [
      "94.0\n",
      "              precision    recall  f1-score   support\n",
      "\n",
      "           0       0.92      0.90      0.91       121\n",
      "           1       0.91      0.97      0.94        96\n",
      "           2       0.95      0.94      0.94       148\n",
      "           3       0.97      0.94      0.95       133\n",
      "           4       0.96      0.97      0.97       120\n",
      "\n",
      "    accuracy                           0.94       618\n",
      "   macro avg       0.94      0.94      0.94       618\n",
      "weighted avg       0.94      0.94      0.94       618\n",
      "\n"
     ]
    },
    {
     "data": {
      "image/png": "[encoded data removed]",
      "text/plain": [
       "<Figure size 432x288 with 2 Axes>"
      ]
     },
     "metadata": {
      "needs_background": "light"
     },
     "output_type": "display_data"
    },
    {
     "name": "stdout",
     "output_type": "stream",
     "text": [
      "\n",
      "0: business\t1: entertainment\t2: health\t3: politics\t4: sport\n",
      "\n",
      "INDEX :\t24\t 84\t 132\t 169\t 178\t 181\t 189\t 197\t 211\t 214\t 221\t 237\t 259\t 294\t 298\t 314\t 315\t 336\t 354\t 368\t 402\t 417\t 426\t 445\t 467\t 488\t 490\t 500\t 520\t 541\t 556\t 557\t 563\t 581\t 616\t \n",
      "TRUE :\t3\t 0\t 0\t 4\t 3\t 2\t 3\t 0\t 2\t 2\t 0\t 0\t 2\t 4\t 1\t 2\t 3\t 3\t 4\t 3\t 2\t 2\t 0\t 3\t 0\t 2\t 0\t 2\t 0\t 1\t 0\t 3\t 0\t 0\t 1\t \n",
      "PRED :\t2\t 1\t 1\t 2\t 2\t 0\t 0\t 2\t 1\t 4\t 4\t 3\t 4\t 2\t 4\t 0\t 0\t 0\t 1\t 1\t 1\t 1\t 1\t 0\t 3\t 4\t 1\t 0\t 3\t 0\t 2\t 0\t 2\t 2\t 3\t \n"
     ]
    }
   ],
   "source": [
    "Evaluation(y_test,yhat,np.unique(new_df['new_class']))\n",
    "Find_index(y_test,yhat)"
   ]
  },
  {
   "cell_type": "markdown",
   "id": "0acc0fa1",
   "metadata": {},
   "source": [
    "Error Analysis      ʅʕ•ᴥ•ʔʃ"
   ]
  },
  {
   "cell_type": "code",
   "execution_count": 519,
   "id": "2780f44b",
   "metadata": {},
   "outputs": [
    {
     "name": "stdout",
     "output_type": "stream",
     "text": [
      "ข้อมูลที่ผ่านการตัด stop word  [1]\n",
      "ข้อมูลที่ไม่ผ่านการทำอะไรเลย  [2]\n"
     ]
    }
   ],
   "source": [
    "ERAnalyzis=vectorizer.transform([X_testER.iloc[211]])\n",
    "Stoped=vectorizer.transform([X_test.iloc[211]])\n",
    "#print(\"ข้อมูลที่ผ่านการตัด stop word \",np.argmax(model.predict(Stoped.toarray())))\n",
    "#print(\"ข้อมูลที่ไม่ผ่านการทำอะไรเลย \",np.argmax(model.predict(ERAnalyzis)))\n",
    "print(\"ข้อมูลที่ผ่านการตัด stop word \",model.predict(Stoped))\n",
    "print(\"ข้อมูลที่ไม่ผ่านการทำอะไรเลย \",model.predict(ERAnalyzis))\n"
   ]
  },
  {
   "attachments": {},
   "cell_type": "markdown",
   "id": "4a94ff7c",
   "metadata": {},
   "source": [
    "# <p style=\"color:pink;\">จะเห็นได้ว่าตัวที่ไม่ผ่านการทำ stop word สามารถทำนายถูก</p>"
   ]
  },
  {
   "cell_type": "markdown",
   "id": "afaf08e3",
   "metadata": {},
   "source": [
    "#### TEST BY WED SCRAPING"
   ]
  },
  {
   "cell_type": "markdown",
   "id": "e8033928",
   "metadata": {},
   "source": [
    "# <p style=\"color:pink;\">import ตัวที่จะใช้กับ web scraping</p>"
   ]
  },
  {
   "cell_type": "code",
   "execution_count": null,
   "id": "17f81f6f",
   "metadata": {},
   "outputs": [],
   "source": [
    "import requests\n",
    "from bs4 import BeautifulSoup"
   ]
  },
  {
   "attachments": {},
   "cell_type": "markdown",
   "id": "464b7eff",
   "metadata": {},
   "source": [
    "# <p style=\"color:pink;\">ทำการ Scraping</p>"
   ]
  },
  {
   "cell_type": "code",
   "execution_count": null,
   "id": "3c27a42a",
   "metadata": {},
   "outputs": [],
   "source": [
    "def get_data_news(url,Tag,type,_type_detatil):\n",
    "    url =  url\n",
    "    r = requests.get(url)\n",
    "    r.encoding = 'utf-8' \n",
    "    soup = BeautifulSoup(r.text,'lxml')\n",
    "    para_1 = soup.find_all(Tag,{type:_type_detatil})\n",
    "    \n",
    "    str_=''\n",
    "    for w in para_1:\n",
    "        str_ +=w.text.strip()\n",
    "    text_nor = remove_stopwords(str_)\n",
    "\n",
    "    # strr =''                                  ;'''ตัดคำที่ไม่ใช่ตัวอักษรออก'''\n",
    "    # for word in word_tokenize(text_nor):\n",
    "    #     if word.isalpha():\n",
    "    #         strr +=''.join(word)+' '\n",
    "    return str_\n",
    "\n",
    "text = get_data_news('https://edition.cnn.com/2023/03/03/asia/north-korea-hunger-famine-food-shortages-intl-hnk/index.html','p','class','paragraph inline-placeholder')\n",
    "# text = get_data_news('https://edition.cnn.com/2023/03/09/europe/ukraine-russia-missile-attack-kinzhal-intl','p','class','paragraph inline-placeholder')\n",
    "# text = get_data_news('https://edition.cnn.com/2023/03/04/americas/colombia-cocaine-hippos-pablo-escobar-india-mexico-intl-hnk','p','class','paragraph inline-placeholder')\n",
    "# text = get_data_news('https://edition.cnn.com/2023/03/13/middleeast/saudi-iran-regional-impact-mime-intl/index.html','p','class','paragraph inline-placeholder')\n",
    "text_sport = get_data_news('https://edition.cnn.com/2023/03/13/sport/aaron-rodgers-packers-jets-nfl-spt-intl/index.html','p','class','paragraph inline-placeholder')\n",
    "\n",
    "\n",
    "# print(text)"
   ]
  },
  {
   "cell_type": "markdown",
   "id": "d58d8c30",
   "metadata": {},
   "source": [
    "# <p style=\"color:pink;\">ทำนายข้อมูลจริง</p>"
   ]
  },
  {
   "cell_type": "code",
   "execution_count": null,
   "id": "2abbe73e",
   "metadata": {},
   "outputs": [
    {
     "name": "stdout",
     "output_type": "stream",
     "text": [
      "[4]\n"
     ]
    }
   ],
   "source": [
    "t_pre=vectorizer.transform([text_sport])\n",
    "print(model.predict(t_pre))"
   ]
  },
  {
   "cell_type": "markdown",
   "id": "f5aef797",
   "metadata": {},
   "source": [
    "## For Deep learning"
   ]
  },
  {
   "cell_type": "markdown",
   "id": "72f81006",
   "metadata": {},
   "source": [
    "# <p style=\"color:pink;\">import ตัวที่จะใช้กับ deep learning</p>"
   ]
  },
  {
   "cell_type": "code",
   "execution_count": null,
   "id": "fe34031c",
   "metadata": {},
   "outputs": [],
   "source": [
    "from tensorflow.keras import layers\n",
    "from tensorflow.keras.models import Sequential\n",
    "from keras.preprocessing.text import Tokenizer\n",
    "from tensorflow.keras.preprocessing.sequence import pad_sequences\n",
    "from tensorflow.keras.utils import to_categorical"
   ]
  },
  {
   "cell_type": "markdown",
   "id": "d0e91d43",
   "metadata": {},
   "source": [
    "# <p style=\"color:pink;\">ทำการแปลงข้อมูลเป็น text to sequences</p>"
   ]
  },
  {
   "cell_type": "code",
   "execution_count": null,
   "id": "59933a69",
   "metadata": {},
   "outputs": [
    {
     "name": "stdout",
     "output_type": "stream",
     "text": [
      "5001\n"
     ]
    }
   ],
   "source": [
    "tokenizer = Tokenizer(num_words=5000)\n",
    "tokenizer.fit_on_texts(X_train)\n",
    "\n",
    "x_train = tokenizer.texts_to_sequences(X_train) #ตรงคือทำอะไร\n",
    "x_test = tokenizer.texts_to_sequences(X_test)\n",
    "\n",
    "vocab_size = 5000 + 1  \n",
    "\n",
    "print(vocab_size)\n",
    "# print(X_train[0])\n",
    "# print(x_train[0])\n",
    "\n",
    "\n",
    "maxlen = 500 \n",
    "\n",
    "sen_train = pad_sequences(x_train, padding='post', maxlen=maxlen) \n",
    "sen_test = pad_sequences(x_test, padding='post', maxlen=maxlen)\n"
   ]
  },
  {
   "cell_type": "code",
   "execution_count": null,
   "id": "691db1bd",
   "metadata": {},
   "outputs": [
    {
     "data": {
      "text/plain": [
       "keras.preprocessing.text.Tokenizer"
      ]
     },
     "execution_count": 187,
     "metadata": {},
     "output_type": "execute_result"
    }
   ],
   "source": [
    "type(tokenizer)"
   ]
  },
  {
   "attachments": {},
   "cell_type": "markdown",
   "id": "e4adc671",
   "metadata": {},
   "source": [
    "# <p style=\"color:pink;\">ล้างสมอง model</p>"
   ]
  },
  {
   "cell_type": "code",
   "execution_count": null,
   "id": "177a3d29",
   "metadata": {},
   "outputs": [],
   "source": [
    "from tensorflow.keras.backend import clear_session\n",
    "clear_session()"
   ]
  },
  {
   "attachments": {},
   "cell_type": "markdown",
   "id": "e78ee2b2",
   "metadata": {},
   "source": [
    "# <p style=\"color:pink;\">สร้าง model deep learning โดยมี layer word embedding</p>"
   ]
  },
  {
   "cell_type": "code",
   "execution_count": null,
   "id": "ad8aab51",
   "metadata": {},
   "outputs": [
    {
     "name": "stdout",
     "output_type": "stream",
     "text": [
      "Model: \"super_man\"\n",
      "_________________________________________________________________\n",
      " Layer (type)                Output Shape              Param #   \n",
      "=================================================================\n",
      " embedding (Embedding)       (None, 500, 50)           250050    \n",
      "                                                                 \n",
      " conv1d (Conv1D)             (None, 498, 128)          19328     \n",
      "                                                                 \n",
      " flatten (Flatten)           (None, 63744)             0         \n",
      "                                                                 \n",
      " dense (Dense)               (None, 32)                2039840   \n",
      "                                                                 \n",
      " dropout (Dropout)           (None, 32)                0         \n",
      "                                                                 \n",
      " dense_1 (Dense)             (None, 32)                1056      \n",
      "                                                                 \n",
      " dense_2 (Dense)             (None, 5)                 165       \n",
      "                                                                 \n",
      "=================================================================\n",
      "Total params: 2,310,439\n",
      "Trainable params: 2,310,439\n",
      "Non-trainable params: 0\n",
      "_________________________________________________________________\n"
     ]
    }
   ],
   "source": [
    "embedding_dim = 50\n",
    "maxlen = 500\n",
    "model = Sequential(name=\"super_man\")\n",
    "model.add(layers.Embedding(vocab_size, embedding_dim, input_length=maxlen))\n",
    "model.add(layers.Conv1D(128,3, activation='relu'))\n",
    "# model.add(layers.GlobalMaxPooling1D())\n",
    "model.add(layers.Flatten())\n",
    "model.add(layers.Dense(32, activation='relu'))\n",
    "model.add(layers.Dropout(0.4))\n",
    "model.add(layers.Dense(32, activation='relu'))\n",
    "model.add(layers.Dense(5, activation='softmax'))\n",
    "model.compile(optimizer='adam',\n",
    "              loss='categorical_crossentropy',\n",
    "              metrics=['accuracy'])\n",
    "model.summary()"
   ]
  },
  {
   "attachments": {},
   "cell_type": "markdown",
   "id": "5089e00f",
   "metadata": {},
   "source": [
    "# <p style=\"color:pink;\">สร้าง function ที่ใช้วัดประสิทธิภาพของ model</p>"
   ]
  },
  {
   "cell_type": "code",
   "execution_count": null,
   "id": "7c8c4222",
   "metadata": {},
   "outputs": [],
   "source": [
    "def plot_history(history):\n",
    "    acc = history.history['accuracy']\n",
    "    val_acc = history.history['val_accuracy']\n",
    "    loss = history.history['loss']\n",
    "    val_loss = history.history['val_loss']\n",
    "    x = range(1, len(acc) + 1)\n",
    "\n",
    "    plt.figure(figsize=(10, 5))\n",
    "    plt.subplot(1, 2, 1)\n",
    "    plt.plot(x, acc, 'b', label='Training acc')\n",
    "    plt.plot(x, val_acc, 'r', label='Validation acc')\n",
    "    plt.title('Training and validation accuracy')\n",
    "    plt.legend()\n",
    "    \n",
    "    plt.subplot(1, 2, 2)\n",
    "    plt.plot(x, loss, 'b', label='Training loss')\n",
    "    plt.plot(x, val_loss, 'r', label='Validation loss')\n",
    "    plt.title('Training and validation loss')\n",
    "    plt.legend()\n",
    "\n",
    "def to_categorical_one_hot(Y,N):\n",
    "    return to_categorical(Y, N)"
   ]
  },
  {
   "cell_type": "code",
   "execution_count": null,
   "id": "fba4585b",
   "metadata": {},
   "outputs": [],
   "source": [
    "y_train_hot = to_categorical_one_hot(y_train, 5)\n",
    "# print(y_train_hot)"
   ]
  },
  {
   "attachments": {},
   "cell_type": "markdown",
   "id": "4b41a5ba",
   "metadata": {},
   "source": [
    "# <p style=\"color:pink;\">ทำการ fit ข้อมูล</p>"
   ]
  },
  {
   "cell_type": "code",
   "execution_count": null,
   "id": "1b1ce749",
   "metadata": {},
   "outputs": [
    {
     "name": "stdout",
     "output_type": "stream",
     "text": [
      "Epoch 1/5\n",
      "174/174 [==============================] - 9s 45ms/step - loss: 1.5089 - accuracy: 0.2765 - val_loss: 1.3377 - val_accuracy: 0.4492\n",
      "Epoch 2/5\n",
      "174/174 [==============================] - 7s 43ms/step - loss: 1.1320 - accuracy: 0.5306 - val_loss: 0.8541 - val_accuracy: 0.6436\n",
      "Epoch 3/5\n",
      "174/174 [==============================] - 7s 43ms/step - loss: 0.7404 - accuracy: 0.6796 - val_loss: 0.6290 - val_accuracy: 0.8056\n",
      "Epoch 4/5\n",
      "174/174 [==============================] - 7s 42ms/step - loss: 0.5851 - accuracy: 0.7307 - val_loss: 0.5044 - val_accuracy: 0.8272\n",
      "Epoch 5/5\n",
      "174/174 [==============================] - 7s 42ms/step - loss: 0.4846 - accuracy: 0.8229 - val_loss: 0.4367 - val_accuracy: 0.8467\n"
     ]
    }
   ],
   "source": [
    "\n",
    "history_emb = model.fit(sen_train,y_train_hot,epochs=5,verbose=True, validation_split=0.25,batch_size=8)"
   ]
  },
  {
   "attachments": {},
   "cell_type": "markdown",
   "id": "b0db4b88",
   "metadata": {},
   "source": [
    "# <p style=\"color:pink;\">ทำการ plot เส้น loss และ accuracy ออกมาดูประสิทธิภาพ</p>"
   ]
  },
  {
   "cell_type": "code",
   "execution_count": null,
   "id": "9fc63a7b",
   "metadata": {},
   "outputs": [
    {
     "data": {
      "image/png": "[encoded data removed]",
      "text/plain": [
       "<Figure size 720x360 with 2 Axes>"
      ]
     },
     "metadata": {
      "needs_background": "light"
     },
     "output_type": "display_data"
    }
   ],
   "source": [
    "plot_history(history_emb)"
   ]
  },
  {
   "attachments": {},
   "cell_type": "markdown",
   "id": "e2a5b45f",
   "metadata": {},
   "source": [
    "# <p style=\"color:pink;\">เข้ารหัส y_test ให้เป็นแบบ one hot vector</p>"
   ]
  },
  {
   "cell_type": "code",
   "execution_count": null,
   "id": "f0b027d3",
   "metadata": {},
   "outputs": [],
   "source": [
    "y_test_hot = to_categorical_one_hot(y_test, 5)"
   ]
  },
  {
   "attachments": {},
   "cell_type": "markdown",
   "id": "5a847dee",
   "metadata": {},
   "source": [
    "# <p style=\"color:pink;\">ทำการ plot ออกมาดูประสิทธิภาพและดูตำแหน่งที่ผิดพลาด</p>"
   ]
  },
  {
   "cell_type": "code",
   "execution_count": null,
   "id": "30c5679c",
   "metadata": {},
   "outputs": [
    {
     "name": "stdout",
     "output_type": "stream",
     "text": [
      "20/20 [==============================] - 0s 8ms/step\n",
      "0: business\t1: entertainment\t2: health\t3: politics\t4: sport\n",
      "\n",
      "INDEX :\t9\t 23\t 25\t 26\t 29\t 32\t 43\t 45\t 46\t 49\t 52\t 61\t 68\t 72\t 75\t 82\t 85\t 91\t 99\t 103\t 108\t 114\t 116\t 119\t 123\t 133\t 140\t 146\t 167\t 169\t 171\t 172\t 174\t 188\t 201\t 209\t 217\t 232\t 235\t 272\t 274\t 275\t 288\t 290\t 293\t 302\t 303\t 304\t 310\t 311\t 313\t 317\t 321\t 325\t 327\t 336\t 337\t 344\t 349\t 357\t 358\t 368\t 374\t 376\t 381\t 406\t 419\t 422\t 423\t 431\t 433\t 452\t 464\t 471\t 473\t 476\t 486\t 494\t 495\t 499\t 512\t 516\t 523\t 525\t 539\t 540\t 544\t 546\t 555\t 568\t 578\t 584\t 597\t 598\t 603\t 606\t 610\t 615\t \n",
      "TRUE :\t4\t 1\t 1\t 0\t 1\t 1\t 1\t 1\t 3\t 0\t 2\t 1\t 1\t 4\t 3\t 1\t 3\t 3\t 1\t 1\t 2\t 4\t 1\t 0\t 0\t 4\t 0\t 0\t 1\t 1\t 0\t 2\t 0\t 1\t 1\t 1\t 2\t 1\t 2\t 3\t 1\t 2\t 4\t 2\t 1\t 1\t 1\t 1\t 4\t 1\t 1\t 3\t 1\t 0\t 1\t 1\t 1\t 0\t 0\t 1\t 1\t 1\t 0\t 4\t 1\t 1\t 0\t 1\t 1\t 1\t 4\t 4\t 1\t 4\t 2\t 0\t 1\t 1\t 4\t 0\t 0\t 2\t 3\t 3\t 1\t 3\t 4\t 3\t 3\t 2\t 1\t 0\t 1\t 3\t 1\t 1\t 1\t 0\t \n",
      "PRED :\t1\t 3\t 3\t 3\t 4\t 3\t 3\t 3\t 2\t 2\t 1\t 3\t 3\t 1\t 2\t 3\t 2\t 2\t 3\t 3\t 3\t 3\t 3\t 3\t 2\t 1\t 2\t 3\t 3\t 3\t 3\t 3\t 2\t 3\t 4\t 3\t 3\t 0\t 3\t 2\t 3\t 3\t 3\t 3\t 3\t 3\t 3\t 4\t 1\t 3\t 4\t 0\t 3\t 2\t 3\t 3\t 3\t 3\t 2\t 2\t 3\t 3\t 1\t 1\t 3\t 3\t 2\t 3\t 3\t 3\t 1\t 3\t 2\t 3\t 1\t 1\t 3\t 4\t 3\t 3\t 2\t 1\t 1\t 2\t 4\t 2\t 1\t 2\t 2\t 3\t 3\t 3\t 3\t 2\t 3\t 3\t 3\t 4\t \n",
      "84.0\n",
      "              precision    recall  f1-score   support\n",
      "\n",
      "           0       0.98      0.85      0.91       119\n",
      "           1       0.84      0.59      0.69       112\n",
      "           2       0.86      0.92      0.89       132\n",
      "           3       0.70      0.91      0.79       141\n",
      "           4       0.94      0.89      0.91       114\n",
      "\n",
      "    accuracy                           0.84       618\n",
      "   macro avg       0.86      0.83      0.84       618\n",
      "weighted avg       0.86      0.84      0.84       618\n",
      "\n"
     ]
    },
    {
     "data": {
      "image/png": "[encoded data removed]",
      "text/plain": [
       "<Figure size 432x288 with 2 Axes>"
      ]
     },
     "metadata": {
      "needs_background": "light"
     },
     "output_type": "display_data"
    },
    {
     "name": "stdout",
     "output_type": "stream",
     "text": [
      "\n"
     ]
    }
   ],
   "source": [
    "yhat=model.predict(sen_test)\n",
    "Find_index(y_test,np.argmax(yhat,axis=1))\n",
    "Evaluation(y_test,np.argmax(yhat,axis=1),np.unique(new_df['Category']))\n",
    "\n"
   ]
  },
  {
   "cell_type": "markdown",
   "id": "a322884c",
   "metadata": {},
   "source": [
    "Deep Bag of word"
   ]
  },
  {
   "cell_type": "code",
   "execution_count": null,
   "id": "6c4fda5e",
   "metadata": {},
   "outputs": [
    {
     "data": {
      "text/plain": [
       "(51975, 51975)"
      ]
     },
     "execution_count": 196,
     "metadata": {},
     "output_type": "execute_result"
    }
   ],
   "source": [
    "X_traintf.shape[1],X_testtf.shape[1]"
   ]
  },
  {
   "attachments": {},
   "cell_type": "markdown",
   "id": "c01d597f",
   "metadata": {},
   "source": [
    "# <p style=\"color:pink;\">ล้างสมอง model</p>"
   ]
  },
  {
   "cell_type": "code",
   "execution_count": null,
   "id": "77bcc004",
   "metadata": {},
   "outputs": [],
   "source": [
    "clear_session()"
   ]
  },
  {
   "attachments": {},
   "cell_type": "markdown",
   "id": "79503aaa",
   "metadata": {},
   "source": [
    "# <p style=\"color:pink;\">สร้าง model แบบที่ไม่มี word embedding</p>"
   ]
  },
  {
   "cell_type": "code",
   "execution_count": null,
   "id": "37a4a37f",
   "metadata": {},
   "outputs": [
    {
     "name": "stdout",
     "output_type": "stream",
     "text": [
      "Model: \"SUPER_GOD\"\n",
      "_________________________________________________________________\n",
      " Layer (type)                Output Shape              Param #   \n",
      "=================================================================\n",
      " dense (Dense)               (None, 64)                3326464   \n",
      "                                                                 \n",
      " dropout (Dropout)           (None, 64)                0         \n",
      "                                                                 \n",
      " dense_1 (Dense)             (None, 256)               16640     \n",
      "                                                                 \n",
      " dense_2 (Dense)             (None, 64)                16448     \n",
      "                                                                 \n",
      " dense_3 (Dense)             (None, 5)                 325       \n",
      "                                                                 \n",
      "=================================================================\n",
      "Total params: 3,359,877\n",
      "Trainable params: 3,359,877\n",
      "Non-trainable params: 0\n",
      "_________________________________________________________________\n"
     ]
    }
   ],
   "source": [
    "model = Sequential(name = \"SUPER_GOD\")\n",
    "model.add(layers.Dense(64, activation='relu',input_shape=(X_traintf.shape[1],))) ;'''X_traintf.shape[1]'''\n",
    "model.add(layers.Dropout(0.3))\n",
    "model.add(layers.Dense(256, activation='relu',kernel_regularizer='l2'))\n",
    "model.add(layers.Dense(64, activation='relu'))\n",
    "model.add(layers.Dense(5, activation='softmax'))\n",
    "model.compile(optimizer='adam',\n",
    "              loss='categorical_crossentropy',       \n",
    "              metrics=['accuracy']) ;'''categorical_crossentropy , sparse_categorical_crossentropy'''\n",
    "model.summary()"
   ]
  },
  {
   "attachments": {},
   "cell_type": "markdown",
   "id": "52ba2ea7",
   "metadata": {},
   "source": [
    "# <p style=\"color:pink;\">ทำการฟิตข้อมูล</p>"
   ]
  },
  {
   "cell_type": "code",
   "execution_count": null,
   "id": "31727191",
   "metadata": {},
   "outputs": [
    {
     "name": "stdout",
     "output_type": "stream",
     "text": [
      "Epoch 1/10\n",
      "87/87 [==============================] - 6s 61ms/step - loss: 1.7112 - accuracy: 0.5961 - val_loss: 0.7124 - val_accuracy: 0.9395\n",
      "Epoch 2/10\n",
      "87/87 [==============================] - 5s 58ms/step - loss: 0.3421 - accuracy: 0.9726 - val_loss: 0.3259 - val_accuracy: 0.9546\n",
      "Epoch 3/10\n",
      "87/87 [==============================] - 5s 57ms/step - loss: 0.1223 - accuracy: 0.9993 - val_loss: 0.2454 - val_accuracy: 0.9546\n",
      "Epoch 4/10\n",
      "87/87 [==============================] - 5s 57ms/step - loss: 0.0716 - accuracy: 1.0000 - val_loss: 0.2177 - val_accuracy: 0.9503\n",
      "Epoch 5/10\n",
      "87/87 [==============================] - 5s 58ms/step - loss: 0.0482 - accuracy: 1.0000 - val_loss: 0.1983 - val_accuracy: 0.9568\n",
      "Epoch 6/10\n",
      "87/87 [==============================] - 5s 58ms/step - loss: 0.0375 - accuracy: 1.0000 - val_loss: 0.2061 - val_accuracy: 0.9460\n",
      "Epoch 7/10\n",
      "87/87 [==============================] - 5s 58ms/step - loss: 0.0290 - accuracy: 1.0000 - val_loss: 0.1826 - val_accuracy: 0.9611\n",
      "Epoch 8/10\n",
      "87/87 [==============================] - 5s 57ms/step - loss: 0.0242 - accuracy: 1.0000 - val_loss: 0.1902 - val_accuracy: 0.9482\n",
      "Epoch 9/10\n",
      "87/87 [==============================] - 5s 58ms/step - loss: 0.0208 - accuracy: 1.0000 - val_loss: 0.1812 - val_accuracy: 0.9460\n",
      "Epoch 10/10\n",
      "87/87 [==============================] - 5s 57ms/step - loss: 0.0200 - accuracy: 1.0000 - val_loss: 0.1676 - val_accuracy: 0.9546\n"
     ]
    }
   ],
   "source": [
    "history_emb = model.fit(X_traintf.toarray(),y_train_hot,epochs=10,validation_split=0.25,verbose=True,batch_size=16)"
   ]
  },
  {
   "attachments": {},
   "cell_type": "markdown",
   "id": "1b004353",
   "metadata": {},
   "source": [
    "# <p style=\"color:pink;\">ทำการ plot loss และ accuracy เพื่อวัดประสิทธิภาพของ model</p>"
   ]
  },
  {
   "cell_type": "code",
   "execution_count": null,
   "id": "879a65be",
   "metadata": {},
   "outputs": [
    {
     "data": {
      "image/png": "[encoded data removed]",
      "text/plain": [
       "<Figure size 720x360 with 2 Axes>"
      ]
     },
     "metadata": {
      "needs_background": "light"
     },
     "output_type": "display_data"
    }
   ],
   "source": [
    "plot_history(history_emb)"
   ]
  },
  {
   "attachments": {},
   "cell_type": "markdown",
   "id": "8deb2046",
   "metadata": {},
   "source": [
    "# <p style=\"color:pink;\">นำข้อมูลที่ใส่รหัสแบบ tfidf มา predict</p>"
   ]
  },
  {
   "cell_type": "code",
   "execution_count": null,
   "id": "a831437c",
   "metadata": {},
   "outputs": [
    {
     "name": "stdout",
     "output_type": "stream",
     "text": [
      "20/20 [==============================] - 0s 6ms/step\n"
     ]
    }
   ],
   "source": [
    "yhat=model.predict(X_testtf.toarray())"
   ]
  },
  {
   "attachments": {},
   "cell_type": "markdown",
   "id": "f365fb6a",
   "metadata": {},
   "source": [
    "# <p style=\"color:pink;\">plot ตารางออกมาดู + ปริ้น index ที่ทำนายผิดมาดู</p>"
   ]
  },
  {
   "cell_type": "code",
   "execution_count": null,
   "id": "98e1bd04",
   "metadata": {},
   "outputs": [
    {
     "name": "stdout",
     "output_type": "stream",
     "text": [
      "0: business\t1: entertainment\t2: health\t3: politics\t4: sport\n",
      "\n",
      "INDEX :\t26\t 52\t 61\t 75\t 188\t 290\t 311\t 315\t 317\t 357\t 369\t 373\t 414\t 419\t 423\t 433\t 476\t 494\t 544\t 553\t 578\t 593\t 615\t 616\t \n",
      "TRUE :\t0\t 2\t 1\t 3\t 1\t 2\t 1\t 3\t 3\t 1\t 0\t 3\t 1\t 0\t 1\t 4\t 0\t 1\t 4\t 0\t 1\t 2\t 0\t 2\t \n",
      "PRED :\t3\t 4\t 2\t 2\t 0\t 3\t 4\t 0\t 0\t 2\t 4\t 0\t 4\t 2\t 2\t 0\t 4\t 4\t 1\t 1\t 2\t 0\t 1\t 0\t \n",
      "96.0\n",
      "              precision    recall  f1-score   support\n",
      "\n",
      "           0       0.94      0.95      0.95       119\n",
      "           1       0.97      0.93      0.95       112\n",
      "           2       0.96      0.97      0.96       132\n",
      "           3       0.99      0.97      0.98       141\n",
      "           4       0.95      0.98      0.97       114\n",
      "\n",
      "    accuracy                           0.96       618\n",
      "   macro avg       0.96      0.96      0.96       618\n",
      "weighted avg       0.96      0.96      0.96       618\n",
      "\n"
     ]
    },
    {
     "data": {
      "image/png": "[encoded data removed]",
      "text/plain": [
       "<Figure size 432x288 with 2 Axes>"
      ]
     },
     "metadata": {
      "needs_background": "light"
     },
     "output_type": "display_data"
    },
    {
     "name": "stdout",
     "output_type": "stream",
     "text": [
      "\n"
     ]
    }
   ],
   "source": [
    "Find_index(y_test,np.argmax(yhat,axis=1))\n",
    "Evaluation(y_test,np.argmax(yhat,axis=1),np.unique(new_df['Category']))"
   ]
  },
  {
   "cell_type": "code",
   "execution_count": null,
   "id": "37fe4404",
   "metadata": {},
   "outputs": [
    {
     "name": "stdout",
     "output_type": "stream",
     "text": [
      "1/1 [==============================] - 0s 18ms/step\n",
      "[4]\n"
     ]
    }
   ],
   "source": [
    "t_pre=vectorizer.transform([text_sport])\n",
    "print(np.argmax(model.predict(t_pre.toarray()),axis=1))"
   ]
  }
 ],
 "metadata": {
  "kernelspec": {
   "display_name": "Python 3 (ipykernel)",
   "language": "python",
   "name": "python3"
  },
  "language_info": {
   "codemirror_mode": {
    "name": "ipython",
    "version": 3
   },
   "file_extension": ".py",
   "mimetype": "text/x-python",
   "name": "python",
   "nbconvert_exporter": "python",
   "pygments_lexer": "ipython3",
   "version": "3.8.8"
  }
 },
 "nbformat": 4,
 "nbformat_minor": 5
}
