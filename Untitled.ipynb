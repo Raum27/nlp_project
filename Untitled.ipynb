{
 "cells": [
  {
   "attachments": {},
   "cell_type": "markdown",
   "id": "8eaad813",
   "metadata": {},
   "source": [
    "# <p style=\"color:pink;\">import สิ่งที่เราต้องการใช้มา</p>"
   ]
  },
  {
   "cell_type": "code",
   "execution_count": 84,
   "id": "e2668b0a",
   "metadata": {},
   "outputs": [],
   "source": [
    "import pandas as pd\n",
    "import numpy as np\n",
    "import matplotlib.pyplot as plt\n",
    "from sklearn.naive_bayes import MultinomialNB\n",
    "from sklearn.linear_model import LogisticRegression\n",
    "from sklearn.metrics import accuracy_score,classification_report,confusion_matrix, ConfusionMatrixDisplay\n",
    "from sklearn.pipeline import Pipeline\n",
    "from sklearn.feature_extraction.text import TfidfVectorizer,CountVectorizer,TfidfTransformer\n",
    "from sklearn.model_selection import train_test_split\n",
    "from keras.preprocessing.text import Tokenizer\n",
    "from nltk import FreqDist\n",
    "from nltk import word_tokenize\n",
    "from gensim.parsing.preprocessing import remove_stopwords \n",
    "from tensorflow.keras.backend import clear_session\n",
    "import random"
   ]
  },
  {
   "attachments": {},
   "cell_type": "markdown",
   "id": "30cf906f",
   "metadata": {},
   "source": [
    "# <p style=\"color:pink;\">ดูข้อมูลคร่าวๆ ดูจำนวนคลาสทั้งหมด</p>"
   ]
  },
  {
   "cell_type": "code",
   "execution_count": 85,
   "id": "d873eb0c",
   "metadata": {},
   "outputs": [],
   "source": [
    "\n",
    "df = pd.read_csv(r'CNN_Articels_clean2.csv',usecols=['Category','Article text'])"
   ]
  },
  {
   "cell_type": "code",
   "execution_count": 86,
   "id": "bdc01ad7",
   "metadata": {},
   "outputs": [
    {
     "name": "stdout",
     "output_type": "stream",
     "text": [
      "37949\n",
      "Index(['Category', 'Article text'], dtype='object')\n",
      "Class :\t ['business' 'entertainment' 'health' 'news' 'politics' 'sport' 'style'\n",
      " 'travel' 'vr'] จำนวน class : 9\n"
     ]
    },
    {
     "data": {
      "text/html": [
       "<div>\n",
       "<style scoped>\n",
       "    .dataframe tbody tr th:only-of-type {\n",
       "        vertical-align: middle;\n",
       "    }\n",
       "\n",
       "    .dataframe tbody tr th {\n",
       "        vertical-align: top;\n",
       "    }\n",
       "\n",
       "    .dataframe thead th {\n",
       "        text-align: right;\n",
       "    }\n",
       "</style>\n",
       "<table border=\"1\" class=\"dataframe\">\n",
       "  <thead>\n",
       "    <tr style=\"text-align: right;\">\n",
       "      <th></th>\n",
       "      <th>Category</th>\n",
       "      <th>Article text</th>\n",
       "    </tr>\n",
       "  </thead>\n",
       "  <tbody>\n",
       "    <tr>\n",
       "      <th>0</th>\n",
       "      <td>news</td>\n",
       "      <td>(CNN)Right now, there's a shortage of truck d...</td>\n",
       "    </tr>\n",
       "    <tr>\n",
       "      <th>1</th>\n",
       "      <td>news</td>\n",
       "      <td>(CNN)Working in a factory or warehouse can me...</td>\n",
       "    </tr>\n",
       "    <tr>\n",
       "      <th>2</th>\n",
       "      <td>news</td>\n",
       "      <td>(CNN)In a Hong Kong warehouse, a swarm of aut...</td>\n",
       "    </tr>\n",
       "    <tr>\n",
       "      <th>3</th>\n",
       "      <td>business</td>\n",
       "      <td>The pandemic thrust the working world into a n...</td>\n",
       "    </tr>\n",
       "    <tr>\n",
       "      <th>4</th>\n",
       "      <td>business</td>\n",
       "      <td>New York (CNN Business)March Madness isn't jus...</td>\n",
       "    </tr>\n",
       "  </tbody>\n",
       "</table>\n",
       "</div>"
      ],
      "text/plain": [
       "   Category                                       Article text\n",
       "0      news   (CNN)Right now, there's a shortage of truck d...\n",
       "1      news   (CNN)Working in a factory or warehouse can me...\n",
       "2      news   (CNN)In a Hong Kong warehouse, a swarm of aut...\n",
       "3  business  The pandemic thrust the working world into a n...\n",
       "4  business  New York (CNN Business)March Madness isn't jus..."
      ]
     },
     "execution_count": 86,
     "metadata": {},
     "output_type": "execute_result"
    }
   ],
   "source": [
    "# จำนวนข้อมูลทั้ง\n",
    "print(len(df))\n",
    "print(df.keys())\n",
    "print(\"Class :\\t\",np.unique(df['Category']),\"จำนวน class :\",len(np.unique(df['Category'])))\n",
    "df.head()\n"
   ]
  },
  {
   "attachments": {},
   "cell_type": "markdown",
   "id": "2bd2f0a6",
   "metadata": {},
   "source": [
    "# <p style=\"color:pink;\">plot ข้อมูลมาดู จะเห็นว่า news กับ sport bias สูง</p>"
   ]
  },
  {
   "cell_type": "code",
   "execution_count": 87,
   "id": "e1def8c5",
   "metadata": {},
   "outputs": [
    {
     "data": {
      "text/plain": [
       "<Axes: xlabel='Category'>"
      ]
     },
     "execution_count": 87,
     "metadata": {},
     "output_type": "execute_result"
    },
    {
     "data": {
      "image/png": "[encoded data removed]",
      "text/plain": [
       "<Figure size 640x480 with 1 Axes>"
      ]
     },
     "metadata": {},
     "output_type": "display_data"
    }
   ],
   "source": [
    "# ข้อมูล bias สูง\n",
    "df.groupby('Category').count().plot(kind='bar')"
   ]
  },
  {
   "attachments": {},
   "cell_type": "markdown",
   "id": "62c138e0",
   "metadata": {},
   "source": [
    "# <p style=\"color:pink;\">ตัดข้อมูลที่อยู่ใน news,style,travel,vr ออกไปให้หมด เพราะ news มันไม่สื่อค่า ส่วนตัวอื่นข้อมูลมันก็น้อยเกินไป</p>"
   ]
  },
  {
   "cell_type": "code",
   "execution_count": 88,
   "id": "efc8ec28",
   "metadata": {},
   "outputs": [],
   "source": [
    "# ตัด news ออกไปเพราะไม่รู้ว่ามันคืออะไร ?\n",
    "df = df.drop(df.index[df['Category'].isin(['news'])])\n",
    "df = df.drop(df.index[df['Category'].isin(['style'])])\n",
    "df = df.drop(df.index[df['Category'].isin(['travel'])])\n",
    "df = df.drop(df.index[df['Category'].isin(['vr'])])\n"
   ]
  },
  {
   "attachments": {},
   "cell_type": "markdown",
   "id": "1c76fb7d",
   "metadata": {},
   "source": [
    "# <p style=\"color:pink;\">ดูข้อมูลว่ามีตัวที่เป็น null ไหม</p>"
   ]
  },
  {
   "cell_type": "code",
   "execution_count": 89,
   "id": "4c9e8cb1",
   "metadata": {},
   "outputs": [
    {
     "data": {
      "text/html": [
       "<div>\n",
       "<style scoped>\n",
       "    .dataframe tbody tr th:only-of-type {\n",
       "        vertical-align: middle;\n",
       "    }\n",
       "\n",
       "    .dataframe tbody tr th {\n",
       "        vertical-align: top;\n",
       "    }\n",
       "\n",
       "    .dataframe thead th {\n",
       "        text-align: right;\n",
       "    }\n",
       "</style>\n",
       "<table border=\"1\" class=\"dataframe\">\n",
       "  <thead>\n",
       "    <tr style=\"text-align: right;\">\n",
       "      <th></th>\n",
       "      <th>0</th>\n",
       "    </tr>\n",
       "  </thead>\n",
       "  <tbody>\n",
       "    <tr>\n",
       "      <th>Category</th>\n",
       "      <td>0</td>\n",
       "    </tr>\n",
       "    <tr>\n",
       "      <th>Article text</th>\n",
       "      <td>1</td>\n",
       "    </tr>\n",
       "  </tbody>\n",
       "</table>\n",
       "</div>"
      ],
      "text/plain": [
       "              0\n",
       "Category      0\n",
       "Article text  1"
      ]
     },
     "execution_count": 89,
     "metadata": {},
     "output_type": "execute_result"
    }
   ],
   "source": [
    "# ข้อมูลมี Nan มั้ย\n",
    "df.isnull().sum().to_frame()"
   ]
  },
  {
   "attachments": {},
   "cell_type": "markdown",
   "id": "ae3c1613",
   "metadata": {},
   "source": [
    "# <p style=\"color:pink;\">ดูว่าข้อมูลตรง Article text มีตัวที่ซ้ำกันไหม และตัดทิ้ง</p>"
   ]
  },
  {
   "cell_type": "code",
   "execution_count": 90,
   "id": "543936fb",
   "metadata": {},
   "outputs": [
    {
     "name": "stdout",
     "output_type": "stream",
     "text": [
      "18\n",
      "0\n"
     ]
    }
   ],
   "source": [
    "print(df['Article text'].duplicated().sum())\n",
    "df.drop_duplicates(subset=['Article text'],keep='first',inplace=True)\n",
    "print(df['Article text'].duplicated().sum())"
   ]
  },
  {
   "cell_type": "code",
   "execution_count": 91,
   "id": "3f03e05b",
   "metadata": {},
   "outputs": [
    {
     "data": {
      "text/plain": [
       "19809"
      ]
     },
     "execution_count": 91,
     "metadata": {},
     "output_type": "execute_result"
    }
   ],
   "source": [
    "len(df)"
   ]
  },
  {
   "attachments": {},
   "cell_type": "markdown",
   "id": "9290cc44",
   "metadata": {},
   "source": [
    "# <p style=\"color:pink;\">ทำการตัดข้อมูลให้อยู่ในระดับใกล้ๆกันเพื่อลดความ bias</p>"
   ]
  },
  {
   "cell_type": "code",
   "execution_count": 92,
   "id": "3f0f3240",
   "metadata": {},
   "outputs": [],
   "source": [
    "d1 = df[df['Category']=='business'].iloc[:500]\n",
    "d2 = df[df['Category']=='entertainment']\n",
    "d3 = df[df['Category']=='health']\n",
    "d4 = df[df['Category']=='politics'].iloc[:500]\n",
    "d5 = df[df['Category']=='sport'].iloc[:500]\n",
    "new_df = pd.concat([d1,d2,d3,d4,d5])"
   ]
  },
  {
   "attachments": {},
   "cell_type": "markdown",
   "id": "8d9e9fcf",
   "metadata": {},
   "source": [
    "# <p style=\"color:pink;\">ดูข้อมูลคร่าวๆ</p>"
   ]
  },
  {
   "cell_type": "code",
   "execution_count": 93,
   "id": "0fef6a40",
   "metadata": {},
   "outputs": [
    {
     "data": {
      "text/html": [
       "<div>\n",
       "<style scoped>\n",
       "    .dataframe tbody tr th:only-of-type {\n",
       "        vertical-align: middle;\n",
       "    }\n",
       "\n",
       "    .dataframe tbody tr th {\n",
       "        vertical-align: top;\n",
       "    }\n",
       "\n",
       "    .dataframe thead tr th {\n",
       "        text-align: left;\n",
       "    }\n",
       "\n",
       "    .dataframe thead tr:last-of-type th {\n",
       "        text-align: right;\n",
       "    }\n",
       "</style>\n",
       "<table border=\"1\" class=\"dataframe\">\n",
       "  <thead>\n",
       "    <tr>\n",
       "      <th></th>\n",
       "      <th colspan=\"4\" halign=\"left\">Article text</th>\n",
       "    </tr>\n",
       "    <tr>\n",
       "      <th></th>\n",
       "      <th>count</th>\n",
       "      <th>unique</th>\n",
       "      <th>top</th>\n",
       "      <th>freq</th>\n",
       "    </tr>\n",
       "    <tr>\n",
       "      <th>Category</th>\n",
       "      <th></th>\n",
       "      <th></th>\n",
       "      <th></th>\n",
       "      <th></th>\n",
       "    </tr>\n",
       "  </thead>\n",
       "  <tbody>\n",
       "    <tr>\n",
       "      <th>business</th>\n",
       "      <td>500</td>\n",
       "      <td>500</td>\n",
       "      <td>The pandemic thrust the working world into a n...</td>\n",
       "      <td>1</td>\n",
       "    </tr>\n",
       "    <tr>\n",
       "      <th>entertainment</th>\n",
       "      <td>413</td>\n",
       "      <td>413</td>\n",
       "      <td>(CNN)How will the promise of a second Cold Wa...</td>\n",
       "      <td>1</td>\n",
       "    </tr>\n",
       "    <tr>\n",
       "      <th>health</th>\n",
       "      <td>557</td>\n",
       "      <td>557</td>\n",
       "      <td>(CNN)The US public and even some health exper...</td>\n",
       "      <td>1</td>\n",
       "    </tr>\n",
       "    <tr>\n",
       "      <th>politics</th>\n",
       "      <td>500</td>\n",
       "      <td>500</td>\n",
       "      <td>(CNN)The Biden administration has formally de...</td>\n",
       "      <td>1</td>\n",
       "    </tr>\n",
       "    <tr>\n",
       "      <th>sport</th>\n",
       "      <td>500</td>\n",
       "      <td>500</td>\n",
       "      <td>(CNN)The Cleveland Browns have defended their...</td>\n",
       "      <td>1</td>\n",
       "    </tr>\n",
       "  </tbody>\n",
       "</table>\n",
       "</div>"
      ],
      "text/plain": [
       "              Article text         \\\n",
       "                     count unique   \n",
       "Category                            \n",
       "business               500    500   \n",
       "entertainment          413    413   \n",
       "health                 557    557   \n",
       "politics               500    500   \n",
       "sport                  500    500   \n",
       "\n",
       "                                                                       \n",
       "                                                             top freq  \n",
       "Category                                                               \n",
       "business       The pandemic thrust the working world into a n...    1  \n",
       "entertainment   (CNN)How will the promise of a second Cold Wa...    1  \n",
       "health          (CNN)The US public and even some health exper...    1  \n",
       "politics        (CNN)The Biden administration has formally de...    1  \n",
       "sport           (CNN)The Cleveland Browns have defended their...    1  "
      ]
     },
     "execution_count": 93,
     "metadata": {},
     "output_type": "execute_result"
    }
   ],
   "source": [
    "new_df.groupby('Category').describe()"
   ]
  },
  {
   "attachments": {},
   "cell_type": "markdown",
   "id": "4d27a71d",
   "metadata": {},
   "source": [
    "# <p style=\"color:pink;\">ทำการเพิ่มคอลัมน์ใน dataframe โดยต่อเป็น length ของประโยค</p>"
   ]
  },
  {
   "cell_type": "code",
   "execution_count": 94,
   "id": "dde092fd",
   "metadata": {},
   "outputs": [],
   "source": [
    "new_df['length']= new_df['Article text'].apply(len)\n"
   ]
  },
  {
   "attachments": {},
   "cell_type": "markdown",
   "id": "c778ccdc",
   "metadata": {},
   "source": [
    "# <p style=\"color:pink;\">สุ่มข้อมูลออกมาดู 5 ตัวอย่าง</p>"
   ]
  },
  {
   "cell_type": "code",
   "execution_count": 95,
   "id": "09e9c7f4",
   "metadata": {},
   "outputs": [
    {
     "data": {
      "text/html": [
       "<div>\n",
       "<style scoped>\n",
       "    .dataframe tbody tr th:only-of-type {\n",
       "        vertical-align: middle;\n",
       "    }\n",
       "\n",
       "    .dataframe tbody tr th {\n",
       "        vertical-align: top;\n",
       "    }\n",
       "\n",
       "    .dataframe thead th {\n",
       "        text-align: right;\n",
       "    }\n",
       "</style>\n",
       "<table border=\"1\" class=\"dataframe\">\n",
       "  <thead>\n",
       "    <tr style=\"text-align: right;\">\n",
       "      <th></th>\n",
       "      <th>Category</th>\n",
       "      <th>Article text</th>\n",
       "      <th>length</th>\n",
       "    </tr>\n",
       "  </thead>\n",
       "  <tbody>\n",
       "    <tr>\n",
       "      <th>2834</th>\n",
       "      <td>business</td>\n",
       "      <td>The past 22 months of the pandemic have forced...</td>\n",
       "      <td>7258</td>\n",
       "    </tr>\n",
       "    <tr>\n",
       "      <th>272</th>\n",
       "      <td>entertainment</td>\n",
       "      <td>(CNN)Designed to showcase Jennifer Lopez play...</td>\n",
       "      <td>3643</td>\n",
       "    </tr>\n",
       "    <tr>\n",
       "      <th>5406</th>\n",
       "      <td>health</td>\n",
       "      <td>Story highlightsDan Giannopoulos photographs d...</td>\n",
       "      <td>4846</td>\n",
       "    </tr>\n",
       "    <tr>\n",
       "      <th>1049</th>\n",
       "      <td>health</td>\n",
       "      <td>(CNN)Annual drug overdose deaths have reached...</td>\n",
       "      <td>2986</td>\n",
       "    </tr>\n",
       "    <tr>\n",
       "      <th>5404</th>\n",
       "      <td>health</td>\n",
       "      <td>Story highlightsPhotographer Lorenzo Maccotta ...</td>\n",
       "      <td>3492</td>\n",
       "    </tr>\n",
       "  </tbody>\n",
       "</table>\n",
       "</div>"
      ],
      "text/plain": [
       "           Category                                       Article text  length\n",
       "2834       business  The past 22 months of the pandemic have forced...    7258\n",
       "272   entertainment   (CNN)Designed to showcase Jennifer Lopez play...    3643\n",
       "5406         health  Story highlightsDan Giannopoulos photographs d...    4846\n",
       "1049         health   (CNN)Annual drug overdose deaths have reached...    2986\n",
       "5404         health  Story highlightsPhotographer Lorenzo Maccotta ...    3492"
      ]
     },
     "execution_count": 95,
     "metadata": {},
     "output_type": "execute_result"
    }
   ],
   "source": [
    "new_df.sample(5)"
   ]
  },
  {
   "attachments": {},
   "cell_type": "markdown",
   "id": "bcdb2959",
   "metadata": {},
   "source": [
    "# <p style=\"color:pink;\">ดูค่าสถิติของความยาวแต่ละ Category </p>"
   ]
  },
  {
   "cell_type": "code",
   "execution_count": 96,
   "id": "ded084aa",
   "metadata": {},
   "outputs": [
    {
     "data": {
      "text/html": [
       "<div>\n",
       "<style scoped>\n",
       "    .dataframe tbody tr th:only-of-type {\n",
       "        vertical-align: middle;\n",
       "    }\n",
       "\n",
       "    .dataframe tbody tr th {\n",
       "        vertical-align: top;\n",
       "    }\n",
       "\n",
       "    .dataframe thead th {\n",
       "        text-align: right;\n",
       "    }\n",
       "</style>\n",
       "<table border=\"1\" class=\"dataframe\">\n",
       "  <thead>\n",
       "    <tr style=\"text-align: right;\">\n",
       "      <th></th>\n",
       "      <th>count</th>\n",
       "      <th>mean</th>\n",
       "      <th>std</th>\n",
       "      <th>min</th>\n",
       "      <th>25%</th>\n",
       "      <th>50%</th>\n",
       "      <th>75%</th>\n",
       "      <th>max</th>\n",
       "    </tr>\n",
       "    <tr>\n",
       "      <th>Category</th>\n",
       "      <th></th>\n",
       "      <th></th>\n",
       "      <th></th>\n",
       "      <th></th>\n",
       "      <th></th>\n",
       "      <th></th>\n",
       "      <th></th>\n",
       "      <th></th>\n",
       "    </tr>\n",
       "  </thead>\n",
       "  <tbody>\n",
       "    <tr>\n",
       "      <th>business</th>\n",
       "      <td>500.0</td>\n",
       "      <td>6250.388000</td>\n",
       "      <td>4470.703375</td>\n",
       "      <td>929.0</td>\n",
       "      <td>3542.00</td>\n",
       "      <td>4859.0</td>\n",
       "      <td>7247.50</td>\n",
       "      <td>31173.0</td>\n",
       "    </tr>\n",
       "    <tr>\n",
       "      <th>entertainment</th>\n",
       "      <td>413.0</td>\n",
       "      <td>5178.508475</td>\n",
       "      <td>7481.705409</td>\n",
       "      <td>542.0</td>\n",
       "      <td>1659.00</td>\n",
       "      <td>2972.0</td>\n",
       "      <td>4842.00</td>\n",
       "      <td>56557.0</td>\n",
       "    </tr>\n",
       "    <tr>\n",
       "      <th>health</th>\n",
       "      <td>557.0</td>\n",
       "      <td>8464.265709</td>\n",
       "      <td>7727.664249</td>\n",
       "      <td>720.0</td>\n",
       "      <td>4846.00</td>\n",
       "      <td>6550.0</td>\n",
       "      <td>9514.00</td>\n",
       "      <td>110663.0</td>\n",
       "    </tr>\n",
       "    <tr>\n",
       "      <th>politics</th>\n",
       "      <td>500.0</td>\n",
       "      <td>6901.512000</td>\n",
       "      <td>4702.301644</td>\n",
       "      <td>463.0</td>\n",
       "      <td>3730.25</td>\n",
       "      <td>5559.0</td>\n",
       "      <td>8932.75</td>\n",
       "      <td>39223.0</td>\n",
       "    </tr>\n",
       "    <tr>\n",
       "      <th>sport</th>\n",
       "      <td>500.0</td>\n",
       "      <td>5889.888000</td>\n",
       "      <td>3983.732443</td>\n",
       "      <td>441.0</td>\n",
       "      <td>2976.75</td>\n",
       "      <td>4762.5</td>\n",
       "      <td>7838.75</td>\n",
       "      <td>26379.0</td>\n",
       "    </tr>\n",
       "  </tbody>\n",
       "</table>\n",
       "</div>"
      ],
      "text/plain": [
       "               count         mean          std    min      25%     50%  \\\n",
       "Category                                                                 \n",
       "business       500.0  6250.388000  4470.703375  929.0  3542.00  4859.0   \n",
       "entertainment  413.0  5178.508475  7481.705409  542.0  1659.00  2972.0   \n",
       "health         557.0  8464.265709  7727.664249  720.0  4846.00  6550.0   \n",
       "politics       500.0  6901.512000  4702.301644  463.0  3730.25  5559.0   \n",
       "sport          500.0  5889.888000  3983.732443  441.0  2976.75  4762.5   \n",
       "\n",
       "                   75%       max  \n",
       "Category                          \n",
       "business       7247.50   31173.0  \n",
       "entertainment  4842.00   56557.0  \n",
       "health         9514.00  110663.0  \n",
       "politics       8932.75   39223.0  \n",
       "sport          7838.75   26379.0  "
      ]
     },
     "execution_count": 96,
     "metadata": {},
     "output_type": "execute_result"
    }
   ],
   "source": [
    "new_df.groupby(['Category'])['length'].describe()"
   ]
  },
  {
   "attachments": {},
   "cell_type": "markdown",
   "id": "3880bc5c",
   "metadata": {},
   "source": [
    "# <p style=\"color:pink;\">นำข้อมูลมา plot จะเห็นได้ว่า bias น้อยกว่าเดิมแบบมากๆ</p>"
   ]
  },
  {
   "cell_type": "code",
   "execution_count": 97,
   "id": "4a2cd2ba",
   "metadata": {},
   "outputs": [
    {
     "data": {
      "text/plain": [
       "<Axes: xlabel='Category'>"
      ]
     },
     "execution_count": 97,
     "metadata": {},
     "output_type": "execute_result"
    },
    {
     "data": {
      "image/png": "[encoded data removed]",
      "text/plain": [
       "<Figure size 640x480 with 1 Axes>"
      ]
     },
     "metadata": {},
     "output_type": "display_data"
    }
   ],
   "source": [
    "new_df.groupby(['Category']).count().plot(kind='bar')"
   ]
  },
  {
   "attachments": {},
   "cell_type": "markdown",
   "id": "aa181fe8",
   "metadata": {},
   "source": [
    "### PREPARE DATA "
   ]
  },
  {
   "attachments": {},
   "cell_type": "markdown",
   "id": "2fb2cb26",
   "metadata": {},
   "source": [
    "# <p style=\"color:pink;\">สร้าง method ตัด stop word and symbols</p>"
   ]
  },
  {
   "cell_type": "code",
   "execution_count": 98,
   "id": "73f5b375",
   "metadata": {},
   "outputs": [],
   "source": [
    "def preprocess_text(text):\n",
    "    text_nor = text.map(remove_stopwords).map(word_tokenize)\n",
    "    word_seg =[]\n",
    "    for word in text_nor:\n",
    "        strr =''\n",
    "        for word2 in word:\n",
    "            if word2.isalpha():\n",
    "                strr +=''.join(word2)+' '\n",
    "        word_seg.append(strr)\n",
    "\n",
    "    return word_seg"
   ]
  },
  {
   "attachments": {},
   "cell_type": "markdown",
   "id": "de61dbf1",
   "metadata": {},
   "source": [
    "# <p style=\"color:pink;\">ต่อคอลัมน์ให้ dataframe ด้วยข้อมูลที่ตัด stopword and symbols แล้ว</p>"
   ]
  },
  {
   "cell_type": "code",
   "execution_count": 99,
   "id": "40257917",
   "metadata": {},
   "outputs": [],
   "source": [
    "new_df['Clean_text'] = preprocess_text(new_df['Article text'])"
   ]
  },
  {
   "attachments": {},
   "cell_type": "markdown",
   "id": "eb0821ed",
   "metadata": {},
   "source": [
    "# <p style=\"color:pink;\">ต่อ dataframe ด้วยข้อมูลที่เข้ารหัส เช่น business ก็เข้ารหัสเป็น 0</p>"
   ]
  },
  {
   "cell_type": "code",
   "execution_count": 100,
   "id": "530c84a0",
   "metadata": {},
   "outputs": [],
   "source": [
    "new_df['new_class'] = pd.factorize(new_df['Category'])[0]"
   ]
  },
  {
   "cell_type": "code",
   "execution_count": 101,
   "id": "b2f6ea96",
   "metadata": {},
   "outputs": [
    {
     "data": {
      "text/html": [
       "<div>\n",
       "<style scoped>\n",
       "    .dataframe tbody tr th:only-of-type {\n",
       "        vertical-align: middle;\n",
       "    }\n",
       "\n",
       "    .dataframe tbody tr th {\n",
       "        vertical-align: top;\n",
       "    }\n",
       "\n",
       "    .dataframe thead th {\n",
       "        text-align: right;\n",
       "    }\n",
       "</style>\n",
       "<table border=\"1\" class=\"dataframe\">\n",
       "  <thead>\n",
       "    <tr style=\"text-align: right;\">\n",
       "      <th></th>\n",
       "      <th>Category</th>\n",
       "      <th>Article text</th>\n",
       "      <th>length</th>\n",
       "      <th>Clean_text</th>\n",
       "      <th>new_class</th>\n",
       "    </tr>\n",
       "  </thead>\n",
       "  <tbody>\n",
       "    <tr>\n",
       "      <th>3</th>\n",
       "      <td>business</td>\n",
       "      <td>The pandemic thrust the working world into a n...</td>\n",
       "      <td>14951</td>\n",
       "      <td>The pandemic thrust working world new reality ...</td>\n",
       "      <td>0</td>\n",
       "    </tr>\n",
       "    <tr>\n",
       "      <th>4</th>\n",
       "      <td>business</td>\n",
       "      <td>New York (CNN Business)March Madness isn't jus...</td>\n",
       "      <td>2805</td>\n",
       "      <td>New York CNN Business March Madness is college...</td>\n",
       "      <td>0</td>\n",
       "    </tr>\n",
       "    <tr>\n",
       "      <th>5</th>\n",
       "      <td>business</td>\n",
       "      <td>A version of this story first appeared in CNN ...</td>\n",
       "      <td>6775</td>\n",
       "      <td>A version story appeared CNN Business Before B...</td>\n",
       "      <td>0</td>\n",
       "    </tr>\n",
       "    <tr>\n",
       "      <th>6</th>\n",
       "      <td>business</td>\n",
       "      <td>New York (CNN Business)Governments around the ...</td>\n",
       "      <td>2589</td>\n",
       "      <td>New York CNN Business Governments world consid...</td>\n",
       "      <td>0</td>\n",
       "    </tr>\n",
       "    <tr>\n",
       "      <th>7</th>\n",
       "      <td>business</td>\n",
       "      <td>This interview has been edited from its origin...</td>\n",
       "      <td>7868</td>\n",
       "      <td>This interview edited original version It orig...</td>\n",
       "      <td>0</td>\n",
       "    </tr>\n",
       "  </tbody>\n",
       "</table>\n",
       "</div>"
      ],
      "text/plain": [
       "   Category                                       Article text  length  \\\n",
       "3  business  The pandemic thrust the working world into a n...   14951   \n",
       "4  business  New York (CNN Business)March Madness isn't jus...    2805   \n",
       "5  business  A version of this story first appeared in CNN ...    6775   \n",
       "6  business  New York (CNN Business)Governments around the ...    2589   \n",
       "7  business  This interview has been edited from its origin...    7868   \n",
       "\n",
       "                                          Clean_text  new_class  \n",
       "3  The pandemic thrust working world new reality ...          0  \n",
       "4  New York CNN Business March Madness is college...          0  \n",
       "5  A version story appeared CNN Business Before B...          0  \n",
       "6  New York CNN Business Governments world consid...          0  \n",
       "7  This interview edited original version It orig...          0  "
      ]
     },
     "execution_count": 101,
     "metadata": {},
     "output_type": "execute_result"
    }
   ],
   "source": [
    "new_df.head()"
   ]
  },
  {
   "attachments": {},
   "cell_type": "markdown",
   "id": "3ed0ee9a",
   "metadata": {},
   "source": [
    "# <p style=\"color:pink;\">ทำการแบ่งข้อมูลที่จะไป train,test</p>"
   ]
  },
  {
   "cell_type": "code",
   "execution_count": 102,
   "id": "1d93bc44",
   "metadata": {},
   "outputs": [],
   "source": [
    "X_train,X_test,y_train,y_test = train_test_split(new_df['Clean_text'],new_df['new_class'],test_size=0.25,random_state=2)"
   ]
  },
  {
   "attachments": {},
   "cell_type": "markdown",
   "id": "05abfeab",
   "metadata": {},
   "source": [
    "# <p style=\"color:pink;\">ทำ bag of word ด้วยวิธี count vectorizer</p>"
   ]
  },
  {
   "cell_type": "code",
   "execution_count": 103,
   "id": "3dc50b97",
   "metadata": {},
   "outputs": [
    {
     "name": "stdout",
     "output_type": "stream",
     "text": [
      "[[0 0 0 ... 0 0 0]\n",
      " [0 0 0 ... 0 0 0]\n",
      " [0 0 0 ... 0 0 0]\n",
      " [0 0 0 ... 0 0 0]\n",
      " [0 0 0 ... 0 0 0]]\n"
     ]
    },
    {
     "data": {
      "text/plain": [
       "((1852, 52334), (618, 52334))"
      ]
     },
     "execution_count": 103,
     "metadata": {},
     "output_type": "execute_result"
    }
   ],
   "source": [
    "# BAG OF WORD countvectorizer\n",
    "vectorizer = CountVectorizer()\n",
    "X_traintf = vectorizer.fit_transform(X_train)\n",
    "X_testtf = vectorizer.transform(X_test)\n",
    "print(X_traintf.toarray()[:5])\n",
    "X_traintf.shape,X_testtf.shape"
   ]
  },
  {
   "attachments": {},
   "cell_type": "markdown",
   "id": "0380db5f",
   "metadata": {},
   "source": [
    "# <p style=\"color:pink;\">ทำ bag of word ด้วยวิธี TFIDF ลดความสำคัญของคำที่พบบ่อยๆในเอกสาร</p>"
   ]
  },
  {
   "cell_type": "code",
   "execution_count": 104,
   "id": "b23a0490",
   "metadata": {},
   "outputs": [
    {
     "data": {
      "text/plain": [
       "((1852, 52334), (618, 52334))"
      ]
     },
     "execution_count": 104,
     "metadata": {},
     "output_type": "execute_result"
    }
   ],
   "source": [
    "# TFIDF\n",
    "vectorizer = TfidfVectorizer()\n",
    "X_traintf = vectorizer.fit_transform(X_train)\n",
    "X_testtf = vectorizer.transform(X_test)\n",
    "X_traintf.shape,X_testtf.shape"
   ]
  },
  {
   "attachments": {},
   "cell_type": "markdown",
   "id": "40bcc34f",
   "metadata": {},
   "source": [
    "# <p style=\"color:pink;\">machine learning ด้วย model Logistic Regression</p>"
   ]
  },
  {
   "cell_type": "code",
   "execution_count": 105,
   "id": "94743d62",
   "metadata": {},
   "outputs": [],
   "source": [
    "model = LogisticRegression(max_iter=600)\n",
    "model.fit(X_traintf,y_train)\n",
    "yhat=model.predict(X_testtf)"
   ]
  },
  {
   "attachments": {},
   "cell_type": "markdown",
   "id": "c4515677",
   "metadata": {},
   "source": [
    "### <p style=\"color:Lime;\">สร้าง method มา 3 ตัว <br>1) Evaluation เอาไว้วัดประสิทธิภาพของโมเดล <br>2) ctfc เป็นเมธอดที่เอาไว้เรียก train กับ model ที่เราต้องการ <br>3) Find_index ปริ้นข้อมูลที่ทำนายแล้วมันไม่ตรงกับข้อมูลจริงๆ</p>"
   ]
  },
  {
   "cell_type": "code",
   "execution_count": 106,
   "id": "8d3cc892",
   "metadata": {},
   "outputs": [],
   "source": [
    "# Evaluation\n",
    "def Evaluation(y_test,yhat,_class):\n",
    "    print(accuracy_score(y_test,yhat).round(2)*100)\n",
    "    print(classification_report(y_test,yhat))\n",
    "    cm = confusion_matrix(y_test, yhat)\n",
    "    disp = ConfusionMatrixDisplay(confusion_matrix=cm,display_labels=_class)\n",
    "    disp.plot()\n",
    "    plt.show()\n",
    "    print()\n",
    "    \n",
    " # test model   \n",
    "def ctfc(X,Xt,Y,Yt,Classifier):\n",
    "    pipe = Pipeline([('count', CountVectorizer()),('tfid', TfidfTransformer()),('classifier',Classifier)]).fit(X,Y)\n",
    "    return pipe\n",
    "\n",
    "# หาว่าตัวไหนทำนายผิด\n",
    "def Find_index(y_true,y_pre):\n",
    "    print('0: business' '\\t1: entertainment' '\\t2: health' '\\t3: politics' '\\t4: sport\\n')\n",
    "    idx = np.where(y_true!=y_pre)\n",
    "    print(\"INDEX :\\t\",end=\"\")\n",
    "    for i in idx[0]:\n",
    "        print(i,end=\"\\t \")\n",
    "    print(\"\\nTRUE :\\t\",end=\"\")\n",
    "    for i in y_true.iloc[idx[0]]:\n",
    "        print(i,end=\"\\t \")\n",
    "    print(\"\\nPRED :\\t\",end=\"\")\n",
    "    for i in y_pre[idx[0]]:\n",
    "        print(i,end=\"\\t \")\n",
    "    print()"
   ]
  },
  {
   "attachments": {},
   "cell_type": "markdown",
   "id": "1c01ff9a",
   "metadata": {},
   "source": [
    "### <p style=\"color:MediumSlateBlue;\">plot ตารางออกมาดู + print index ที่ทำนายผิดมาดู</p>"
   ]
  },
  {
   "cell_type": "code",
   "execution_count": 107,
   "id": "d8358ed0",
   "metadata": {},
   "outputs": [
    {
     "name": "stdout",
     "output_type": "stream",
     "text": [
      "94.0\n",
      "              precision    recall  f1-score   support\n",
      "\n",
      "           0       0.92      0.90      0.91       121\n",
      "           1       0.91      0.97      0.94        96\n",
      "           2       0.95      0.94      0.94       148\n",
      "           3       0.97      0.94      0.95       133\n",
      "           4       0.96      0.97      0.97       120\n",
      "\n",
      "    accuracy                           0.94       618\n",
      "   macro avg       0.94      0.94      0.94       618\n",
      "weighted avg       0.94      0.94      0.94       618\n",
      "\n"
     ]
    },
    {
     "data": {
      "image/png": "[encoded data removed]",
      "text/plain": [
       "<Figure size 640x480 with 2 Axes>"
      ]
     },
     "metadata": {},
     "output_type": "display_data"
    },
    {
     "name": "stdout",
     "output_type": "stream",
     "text": [
      "\n",
      "0: business\t1: entertainment\t2: health\t3: politics\t4: sport\n",
      "\n",
      "INDEX :\t24\t 84\t 132\t 169\t 178\t 181\t 189\t 197\t 211\t 214\t 221\t 237\t 259\t 294\t 298\t 314\t 315\t 336\t 354\t 368\t 402\t 417\t 426\t 445\t 467\t 488\t 490\t 500\t 520\t 541\t 556\t 557\t 563\t 581\t 616\t \n",
      "TRUE :\t3\t 0\t 0\t 4\t 3\t 2\t 3\t 0\t 2\t 2\t 0\t 0\t 2\t 4\t 1\t 2\t 3\t 3\t 4\t 3\t 2\t 2\t 0\t 3\t 0\t 2\t 0\t 2\t 0\t 1\t 0\t 3\t 0\t 0\t 1\t \n",
      "PRED :\t2\t 1\t 1\t 2\t 2\t 0\t 0\t 2\t 1\t 4\t 4\t 3\t 4\t 2\t 4\t 0\t 0\t 0\t 1\t 1\t 1\t 1\t 1\t 0\t 3\t 4\t 1\t 0\t 3\t 0\t 2\t 0\t 2\t 2\t 3\t \n"
     ]
    }
   ],
   "source": [
    "Evaluation(y_test,yhat,np.unique(new_df['Category']))\n",
    "Find_index(y_test,yhat)"
   ]
  },
  {
   "attachments": {},
   "cell_type": "markdown",
   "id": "0acc0fa1",
   "metadata": {},
   "source": [
    "### <p style=\"color:pink;\">Error Analysis      ʅʕ•ᴥ•ʔʃ</p>\n"
   ]
  },
  {
   "cell_type": "code",
   "execution_count": 149,
   "id": "c8a777a1",
   "metadata": {},
   "outputs": [],
   "source": [
    "X_trainER,X_testER,y_trainER,y_testER = train_test_split(new_df['Article text'],new_df['new_class'],test_size=0.25,random_state=2)"
   ]
  },
  {
   "cell_type": "code",
   "execution_count": 150,
   "metadata": {},
   "outputs": [],
   "source": [
    "# X_test.iloc[211]\n",
    "# X_testER.iloc[211]"
   ]
  },
  {
   "cell_type": "code",
   "execution_count": 156,
   "id": "b1610daa",
   "metadata": {},
   "outputs": [
    {
     "name": "stdout",
     "output_type": "stream",
     "text": [
      "1/1 [==============================] - 0s 21ms/step\n",
      "ข้อมูลที่ผ่านการตัด stop word  2\n",
      "1/1 [==============================] - 0s 26ms/step\n",
      "ข้อมูลที่ไม่ผ่านการทำอะไรเลย  2\n"
     ]
    }
   ],
   "source": [
    "ERAnalyzis=vectorizer.transform([X_testER.iloc[211]]).toarray()\n",
    "Stoped=vectorizer.transform([X_test.iloc[211]]).toarray()\n",
    "print(\"ข้อมูลที่ผ่านการตัด stop word \",np.argmax(model.predict(Stoped)))\n",
    "print(\"ข้อมูลที่ไม่ผ่านการทำอะไรเลย \",np.argmax(model.predict(ERAnalyzis)))"
   ]
  },
  {
   "attachments": {},
   "cell_type": "markdown",
   "id": "9ecd3ad9",
   "metadata": {},
   "source": [
    "#### <p style=\"color:pink;\">จะเห็นได้ว่าตัวที่ไม่ผ่านการทำ stop word สามารถทำนายถูก</p>"
   ]
  },
  {
   "attachments": {},
   "cell_type": "markdown",
   "id": "afaf08e3",
   "metadata": {},
   "source": [
    "### <p style=\"color:pink;\">import ตัวที่จะใช้กับ web scraping เพื่อประยุกต์ใช้กับข้อมูลจริง</p>"
   ]
  },
  {
   "cell_type": "code",
   "execution_count": 110,
   "id": "17f81f6f",
   "metadata": {},
   "outputs": [],
   "source": [
    "import requests\n",
    "from bs4 import BeautifulSoup"
   ]
  },
  {
   "attachments": {},
   "cell_type": "markdown",
   "id": "7bf80258",
   "metadata": {},
   "source": [
    "##### <p style=\"color:pink;\">ทำการ Scraping</p>"
   ]
  },
  {
   "cell_type": "code",
   "execution_count": 111,
   "id": "3c27a42a",
   "metadata": {},
   "outputs": [],
   "source": [
    "def get_data_news(url,Tag,type,_type_detatil):\n",
    "    url =  url\n",
    "    r = requests.get(url)\n",
    "    r.encoding = 'utf-8' \n",
    "    soup = BeautifulSoup(r.text,'lxml')\n",
    "    para_1 = soup.find_all(Tag,{type:_type_detatil})\n",
    "    \n",
    "    str_=''\n",
    "    for w in para_1:\n",
    "        str_ +=w.text.strip()\n",
    "    text_nor = remove_stopwords(str_)\n",
    "\n",
    "    # strr =''                                  ;'''ตัดคำที่ไม่ใช่ตัวอักษรออก'''\n",
    "    # for word in word_tokenize(text_nor):\n",
    "    #     if word.isalpha():\n",
    "    #         strr +=''.join(word)+' '\n",
    "    return str_\n",
    "\n",
    "\n",
    "text_sport = get_data_news('https://edition.cnn.com/2023/03/13/sport/aaron-rodgers-packers-jets-nfl-spt-intl/index.html','p','class','paragraph inline-placeholder')\n",
    "# print(text_sport)\n",
    "# 'https://edition.cnn.com/2023/03/13/sport/aaron-rodgers-packers-jets-nfl-spt-intl/index.html'"
   ]
  },
  {
   "attachments": {},
   "cell_type": "markdown",
   "id": "6ca7c88a",
   "metadata": {},
   "source": [
    "### <p style=\"color:pink;\">ทำนายข้อมูลจริงว่า Model จะสามารถทำนายถูกต้องได้หรือไม่</p>"
   ]
  },
  {
   "cell_type": "code",
   "execution_count": 112,
   "id": "2abbe73e",
   "metadata": {},
   "outputs": [
    {
     "name": "stdout",
     "output_type": "stream",
     "text": [
      "[4]\n"
     ]
    }
   ],
   "source": [
    "t_pre=vectorizer.transform([text_sport])\n",
    "print(model.predict(t_pre))"
   ]
  },
  {
   "attachments": {},
   "cell_type": "markdown",
   "id": "f5aef797",
   "metadata": {},
   "source": [
    "## For Deep learning\n",
    "#### <p style=\"color:pink;\">deep learning Library ที่สำคัญและเกี่ยวข้อง</p>"
   ]
  },
  {
   "cell_type": "code",
   "execution_count": 113,
   "id": "fe34031c",
   "metadata": {},
   "outputs": [],
   "source": [
    "from tensorflow.keras import layers\n",
    "from tensorflow.keras.models import Sequential\n",
    "from keras.preprocessing.text import Tokenizer\n",
    "from tensorflow.keras.preprocessing.sequence import pad_sequences\n",
    "from tensorflow.keras.utils import to_categorical"
   ]
  },
  {
   "attachments": {},
   "cell_type": "markdown",
   "id": "99194b3d",
   "metadata": {},
   "source": [
    "### ควรใช้คำศัพท์เท่าไหร่"
   ]
  },
  {
   "cell_type": "code",
   "execution_count": 114,
   "id": "30c0602b",
   "metadata": {},
   "outputs": [],
   "source": [
    "_str =''\n",
    "for i in new_df['Clean_text']:\n",
    "        _str +=''.join(i)"
   ]
  },
  {
   "cell_type": "code",
   "execution_count": 115,
   "id": "a9227d31",
   "metadata": {},
   "outputs": [
    {
     "name": "stdout",
     "output_type": "stream",
     "text": [
      "10440666\n"
     ]
    },
    {
     "data": {
      "text/plain": [
       "'The pandemic thrust working world new reality March offices closed millions people forced learn jobs'"
      ]
     },
     "execution_count": 115,
     "metadata": {},
     "output_type": "execute_result"
    }
   ],
   "source": [
    "print(len(_str))\n",
    "_str[:100]"
   ]
  },
  {
   "cell_type": "code",
   "execution_count": 116,
   "id": "091e5d62",
   "metadata": {},
   "outputs": [
    {
     "name": "stdout",
     "output_type": "stream",
     "text": [
      "<FreqDist with 68261 samples and 1458723 outcomes>\n",
      "[('I', 14786), ('said', 14774), ('The', 14140), ('CNN', 6431), ('people', 6165), ('It', 5779), ('it', 5039), ('Photos', 4878), ('Caption', 4560), ('like', 4356)]\n"
     ]
    }
   ],
   "source": [
    "word = FreqDist(word_tokenize(_str))\n",
    "print(word)\n",
    "print(word.most_common(10))"
   ]
  },
  {
   "cell_type": "code",
   "execution_count": 117,
   "id": "0b975129",
   "metadata": {},
   "outputs": [
    {
     "data": {
      "image/png": "[encoded data removed]",
      "text/plain": [
       "<Figure size 640x480 with 1 Axes>"
      ]
     },
     "metadata": {},
     "output_type": "display_data"
    },
    {
     "data": {
      "text/plain": [
       "<Axes: xlabel='Samples', ylabel='Cumulative Counts'>"
      ]
     },
     "execution_count": 117,
     "metadata": {},
     "output_type": "execute_result"
    }
   ],
   "source": [
    "word.plot(3000,cumulative=True)"
   ]
  },
  {
   "attachments": {},
   "cell_type": "markdown",
   "id": "9bad1b9b",
   "metadata": {},
   "source": [
    "#### <p style=\"color:pink;\">ทำการแปลงข้อมูลเป็น text to sequences</p>\n",
    "##### <p style=\"color:yellow;\">fit_on_texts จะได้ตารางของคำศัพธ์</p>\n",
    "##### <p style=\"color:pink;\">texts_to_sequences จะได้ตารางตำแหน่งของคำที่พบเช่น I eat cat [1, 2, 3]</p>"
   ]
  },
  {
   "cell_type": "code",
   "execution_count": 118,
   "id": "59933a69",
   "metadata": {},
   "outputs": [
    {
     "name": "stdout",
     "output_type": "stream",
     "text": [
      "52364\n"
     ]
    },
    {
     "data": {
      "text/plain": [
       "keras.preprocessing.text.Tokenizer"
      ]
     },
     "execution_count": 118,
     "metadata": {},
     "output_type": "execute_result"
    }
   ],
   "source": [
    "tokenizer = Tokenizer(num_words=3000)\n",
    "tokenizer.fit_on_texts(X_train)\n",
    "\n",
    "x_train = tokenizer.texts_to_sequences(X_train) #ตรงคือทำอะไร\n",
    "x_test = tokenizer.texts_to_sequences(X_test)\n",
    "\n",
    "vocab_size = len(tokenizer.word_index) + 1  \n",
    "\n",
    "print(vocab_size)\n",
    "\n",
    "maxlen = 2000\n",
    "\n",
    "sen_train = pad_sequences(x_train, padding='post', maxlen=maxlen) \n",
    "sen_test = pad_sequences(x_test, padding='post', maxlen=maxlen)\n",
    "type(tokenizer)"
   ]
  },
  {
   "attachments": {},
   "cell_type": "markdown",
   "id": "654ea39c",
   "metadata": {},
   "source": [
    "### <p style=\"color:pink;\">สร้าง model deep learning โดยมี layer word embedding</p>"
   ]
  },
  {
   "cell_type": "code",
   "execution_count": 119,
   "id": "ad8aab51",
   "metadata": {},
   "outputs": [
    {
     "name": "stdout",
     "output_type": "stream",
     "text": [
      "Model: \"super_man\"\n",
      "_________________________________________________________________\n",
      " Layer (type)                Output Shape              Param #   \n",
      "=================================================================\n",
      " embedding_1 (Embedding)     (None, 2000, 50)          2618200   \n",
      "                                                                 \n",
      " conv1d_1 (Conv1D)           (None, 1998, 128)         19328     \n",
      "                                                                 \n",
      " flatten_1 (Flatten)         (None, 255744)            0         \n",
      "                                                                 \n",
      " dense_3 (Dense)             (None, 32)                8183840   \n",
      "                                                                 \n",
      " dropout_1 (Dropout)         (None, 32)                0         \n",
      "                                                                 \n",
      " dense_4 (Dense)             (None, 32)                1056      \n",
      "                                                                 \n",
      " dense_5 (Dense)             (None, 5)                 165       \n",
      "                                                                 \n",
      "=================================================================\n",
      "Total params: 10,822,589\n",
      "Trainable params: 10,822,589\n",
      "Non-trainable params: 0\n",
      "_________________________________________________________________\n"
     ]
    }
   ],
   "source": [
    "embedding_dim = 50\n",
    "maxlen = 2000\n",
    "model = Sequential(name=\"super_man\")\n",
    "model.add(layers.Embedding(vocab_size, embedding_dim, input_length=maxlen))\n",
    "model.add(layers.Conv1D(128,3, activation='relu'))\n",
    "# model.add(layers.GlobalMaxPooling1D())\n",
    "model.add(layers.Flatten())\n",
    "model.add(layers.Dense(32, activation='relu'))\n",
    "model.add(layers.Dropout(0.4))\n",
    "model.add(layers.Dense(32, activation='relu'))\n",
    "model.add(layers.Dense(5, activation='softmax'))\n",
    "model.compile(optimizer='adam',\n",
    "              loss='categorical_crossentropy',\n",
    "              metrics=['accuracy'])\n",
    "model.summary()"
   ]
  },
  {
   "attachments": {},
   "cell_type": "markdown",
   "id": "aa65c96b",
   "metadata": {},
   "source": [
    "### <p style=\"color:pink;\">สร้าง function ที่ใช้วัดประสิทธิภาพของ model และตัวที่ใช้ทำ one hot</p>"
   ]
  },
  {
   "cell_type": "code",
   "execution_count": 120,
   "id": "7c8c4222",
   "metadata": {},
   "outputs": [],
   "source": [
    "def plot_history(history):\n",
    "    acc = history.history['accuracy']\n",
    "    val_acc = history.history['val_accuracy']\n",
    "    loss = history.history['loss']\n",
    "    val_loss = history.history['val_loss']\n",
    "    x = range(1, len(acc) + 1)\n",
    "\n",
    "    plt.figure(figsize=(10, 5))\n",
    "    plt.subplot(1, 2, 1)\n",
    "    plt.plot(x, acc, 'b', label='Training acc')\n",
    "    plt.plot(x, val_acc, 'r', label='Validation acc')\n",
    "    plt.title('Training and validation accuracy')\n",
    "    plt.legend()\n",
    "    \n",
    "    plt.subplot(1, 2, 2)\n",
    "    plt.plot(x, loss, 'b', label='Training loss')\n",
    "    plt.plot(x, val_loss, 'r', label='Validation loss')\n",
    "    plt.title('Training and validation loss')\n",
    "    plt.legend()\n",
    "\n",
    "def to_categorical_one_hot(Y,N):\n",
    "    return to_categorical(Y, N)"
   ]
  },
  {
   "cell_type": "code",
   "execution_count": 121,
   "id": "fba4585b",
   "metadata": {},
   "outputs": [
    {
     "name": "stdout",
     "output_type": "stream",
     "text": [
      "[[0. 0. 1. 0. 0.]\n",
      " [0. 0. 0. 0. 1.]\n",
      " [0. 0. 0. 0. 1.]\n",
      " [0. 0. 1. 0. 0.]\n",
      " [1. 0. 0. 0. 0.]]\n"
     ]
    }
   ],
   "source": [
    "y_train_hot = to_categorical_one_hot(y_train, 5)\n",
    "print(y_train_hot[:5])"
   ]
  },
  {
   "cell_type": "code",
   "execution_count": 122,
   "id": "1b1ce749",
   "metadata": {},
   "outputs": [
    {
     "name": "stdout",
     "output_type": "stream",
     "text": [
      "Epoch 1/15\n",
      "44/44 [==============================] - 7s 144ms/step - loss: 1.6116 - accuracy: 0.2405 - val_loss: 1.5367 - val_accuracy: 0.3175\n",
      "Epoch 2/15\n",
      "44/44 [==============================] - 6s 143ms/step - loss: 1.3592 - accuracy: 0.4233 - val_loss: 1.0587 - val_accuracy: 0.5529\n",
      "Epoch 3/15\n",
      "44/44 [==============================] - 6s 142ms/step - loss: 0.9358 - accuracy: 0.6256 - val_loss: 0.6251 - val_accuracy: 0.8229\n",
      "Epoch 4/15\n",
      "44/44 [==============================] - 6s 144ms/step - loss: 0.5986 - accuracy: 0.7675 - val_loss: 0.4967 - val_accuracy: 0.8618\n",
      "Epoch 5/15\n",
      "44/44 [==============================] - 6s 144ms/step - loss: 0.4322 - accuracy: 0.8474 - val_loss: 0.4445 - val_accuracy: 0.8855\n",
      "Epoch 6/15\n",
      "44/44 [==============================] - 6s 144ms/step - loss: 0.3829 - accuracy: 0.8690 - val_loss: 0.4466 - val_accuracy: 0.8683\n",
      "Epoch 7/15\n",
      "44/44 [==============================] - 7s 151ms/step - loss: 0.3301 - accuracy: 0.8870 - val_loss: 0.4877 - val_accuracy: 0.8575\n",
      "Epoch 8/15\n",
      "44/44 [==============================] - 7s 156ms/step - loss: 0.3044 - accuracy: 0.8834 - val_loss: 0.5010 - val_accuracy: 0.8985\n",
      "Epoch 9/15\n",
      "44/44 [==============================] - 6s 138ms/step - loss: 0.2539 - accuracy: 0.9050 - val_loss: 0.4792 - val_accuracy: 0.8963\n",
      "Epoch 10/15\n",
      "44/44 [==============================] - 6s 144ms/step - loss: 0.2377 - accuracy: 0.9129 - val_loss: 0.4682 - val_accuracy: 0.9136\n",
      "Epoch 11/15\n",
      "44/44 [==============================] - 6s 142ms/step - loss: 0.2214 - accuracy: 0.9172 - val_loss: 0.5034 - val_accuracy: 0.9006\n",
      "Epoch 12/15\n",
      "44/44 [==============================] - 6s 145ms/step - loss: 0.1959 - accuracy: 0.9186 - val_loss: 0.4687 - val_accuracy: 0.9114\n",
      "Epoch 13/15\n",
      "44/44 [==============================] - 6s 146ms/step - loss: 0.2097 - accuracy: 0.9330 - val_loss: 0.6358 - val_accuracy: 0.8898\n",
      "Epoch 14/15\n",
      "44/44 [==============================] - 7s 150ms/step - loss: 0.1972 - accuracy: 0.9280 - val_loss: 0.4868 - val_accuracy: 0.9071\n",
      "Epoch 15/15\n",
      "44/44 [==============================] - 6s 147ms/step - loss: 0.1906 - accuracy: 0.9266 - val_loss: 0.4398 - val_accuracy: 0.9093\n"
     ]
    }
   ],
   "source": [
    "\n",
    "history_emb = model.fit(sen_train,y_train_hot,epochs=15,verbose=True, validation_split=0.25,batch_size=32)"
   ]
  },
  {
   "cell_type": "code",
   "execution_count": 123,
   "id": "9fc63a7b",
   "metadata": {},
   "outputs": [
    {
     "data": {
      "image/png": "[encoded data removed]",
      "text/plain": [
       "<Figure size 1000x500 with 2 Axes>"
      ]
     },
     "metadata": {},
     "output_type": "display_data"
    }
   ],
   "source": [
    "plot_history(history_emb)"
   ]
  },
  {
   "cell_type": "code",
   "execution_count": 127,
   "id": "30c5679c",
   "metadata": {},
   "outputs": [
    {
     "name": "stdout",
     "output_type": "stream",
     "text": [
      "20/20 [==============================] - 0s 21ms/step\n",
      "0: business\t1: entertainment\t2: health\t3: politics\t4: sport\n",
      "\n",
      "INDEX :\t6\t 13\t 76\t 84\t 129\t 132\t 133\t 153\t 159\t 166\t 169\t 185\t 211\t 214\t 238\t 248\t 270\t 272\t 280\t 294\t 298\t 312\t 315\t 337\t 354\t 401\t 419\t 440\t 488\t 493\t 499\t 511\t 520\t 531\t 541\t 552\t 564\t 569\t 591\t 595\t 612\t 616\t \n",
      "TRUE :\t4\t 0\t 4\t 0\t 1\t 0\t 0\t 0\t 2\t 4\t 4\t 2\t 2\t 2\t 4\t 0\t 1\t 2\t 3\t 4\t 1\t 0\t 3\t 2\t 4\t 2\t 0\t 0\t 2\t 0\t 4\t 2\t 0\t 0\t 1\t 3\t 4\t 4\t 1\t 3\t 2\t 1\t \n",
      "PRED :\t2\t 2\t 0\t 1\t 0\t 2\t 2\t 2\t 1\t 0\t 2\t 3\t 0\t 4\t 2\t 2\t 0\t 3\t 1\t 2\t 4\t 2\t 0\t 0\t 0\t 1\t 2\t 2\t 4\t 2\t 0\t 3\t 1\t 2\t 0\t 2\t 1\t 0\t 0\t 2\t 0\t 0\t \n",
      "93.0\n",
      "              precision    recall  f1-score   support\n",
      "\n",
      "           0       0.89      0.90      0.89       121\n",
      "           1       0.94      0.94      0.94        96\n",
      "           2       0.90      0.93      0.91       148\n",
      "           3       0.98      0.97      0.97       133\n",
      "           4       0.97      0.92      0.94       120\n",
      "\n",
      "    accuracy                           0.93       618\n",
      "   macro avg       0.93      0.93      0.93       618\n",
      "weighted avg       0.93      0.93      0.93       618\n",
      "\n"
     ]
    },
    {
     "data": {
      "image/png": "[encoded data removed]",
      "text/plain": [
       "<Figure size 640x480 with 2 Axes>"
      ]
     },
     "metadata": {},
     "output_type": "display_data"
    },
    {
     "name": "stdout",
     "output_type": "stream",
     "text": [
      "\n"
     ]
    }
   ],
   "source": [
    "yhat=model.predict(sen_test)\n",
    "Find_index(y_test,np.argmax(yhat,axis=1))\n",
    "Evaluation(y_test,np.argmax(yhat,axis=1),np.unique(new_df['Category']))"
   ]
  },
  {
   "attachments": {},
   "cell_type": "markdown",
   "id": "a322884c",
   "metadata": {},
   "source": [
    "Deep Bag of word"
   ]
  },
  {
   "cell_type": "code",
   "execution_count": 128,
   "id": "6c4fda5e",
   "metadata": {},
   "outputs": [
    {
     "data": {
      "text/plain": [
       "(52334, 52334)"
      ]
     },
     "execution_count": 128,
     "metadata": {},
     "output_type": "execute_result"
    }
   ],
   "source": [
    "X_traintf.shape[1],X_testtf.shape[1]"
   ]
  },
  {
   "attachments": {},
   "cell_type": "markdown",
   "id": "3814551a",
   "metadata": {},
   "source": [
    "### <p style=\"color:white;\">เคลียร์ค่า weight เก่า ทั้งหมดเพื่อสร้าง Model ตัวใหม่</p>\n",
    "โดยใช้คำสั่ง clear_session()"
   ]
  },
  {
   "cell_type": "code",
   "execution_count": 129,
   "id": "77bcc004",
   "metadata": {},
   "outputs": [],
   "source": [
    "clear_session()"
   ]
  },
  {
   "cell_type": "code",
   "execution_count": 130,
   "id": "37a4a37f",
   "metadata": {},
   "outputs": [
    {
     "name": "stdout",
     "output_type": "stream",
     "text": [
      "Model: \"SUPER_GOD\"\n",
      "_________________________________________________________________\n",
      " Layer (type)                Output Shape              Param #   \n",
      "=================================================================\n",
      " dense (Dense)               (None, 64)                3349440   \n",
      "                                                                 \n",
      " dropout (Dropout)           (None, 64)                0         \n",
      "                                                                 \n",
      " dense_1 (Dense)             (None, 256)               16640     \n",
      "                                                                 \n",
      " dense_2 (Dense)             (None, 64)                16448     \n",
      "                                                                 \n",
      " dense_3 (Dense)             (None, 5)                 325       \n",
      "                                                                 \n",
      "=================================================================\n",
      "Total params: 3,382,853\n",
      "Trainable params: 3,382,853\n",
      "Non-trainable params: 0\n",
      "_________________________________________________________________\n"
     ]
    }
   ],
   "source": [
    "model = Sequential(name = \"SUPER_GOD\")\n",
    "model.add(layers.Dense(64, activation='relu',input_shape=(X_traintf.shape[1],))) ;'''X_traintf.shape[1]'''\n",
    "model.add(layers.Dropout(0.3))\n",
    "model.add(layers.Dense(256, activation='relu',kernel_regularizer='l2'))\n",
    "model.add(layers.Dense(64, activation='relu'))\n",
    "model.add(layers.Dense(5, activation='softmax'))\n",
    "model.compile(optimizer='adam',\n",
    "              loss='categorical_crossentropy',       \n",
    "              metrics=['accuracy']) ;'''categorical_crossentropy , sparse_categorical_crossentropy'''\n",
    "model.summary()"
   ]
  },
  {
   "cell_type": "code",
   "execution_count": 131,
   "id": "31727191",
   "metadata": {},
   "outputs": [
    {
     "name": "stdout",
     "output_type": "stream",
     "text": [
      "Epoch 1/10\n",
      "44/44 [==============================] - 2s 37ms/step - loss: 2.1431 - accuracy: 0.4032 - val_loss: 1.5195 - val_accuracy: 0.7084\n",
      "Epoch 2/10\n",
      "44/44 [==============================] - 1s 33ms/step - loss: 0.8036 - accuracy: 0.9446 - val_loss: 0.5025 - val_accuracy: 0.9417\n",
      "Epoch 3/10\n",
      "44/44 [==============================] - 1s 34ms/step - loss: 0.2558 - accuracy: 0.9971 - val_loss: 0.3278 - val_accuracy: 0.9503\n",
      "Epoch 4/10\n",
      "44/44 [==============================] - 1s 33ms/step - loss: 0.1337 - accuracy: 1.0000 - val_loss: 0.2588 - val_accuracy: 0.9460\n",
      "Epoch 5/10\n",
      "44/44 [==============================] - 1s 33ms/step - loss: 0.0832 - accuracy: 1.0000 - val_loss: 0.2345 - val_accuracy: 0.9460\n",
      "Epoch 6/10\n",
      "44/44 [==============================] - 1s 33ms/step - loss: 0.0571 - accuracy: 1.0000 - val_loss: 0.2135 - val_accuracy: 0.9525\n",
      "Epoch 7/10\n",
      "44/44 [==============================] - 1s 32ms/step - loss: 0.0448 - accuracy: 1.0000 - val_loss: 0.2043 - val_accuracy: 0.9438\n",
      "Epoch 8/10\n",
      "44/44 [==============================] - 1s 32ms/step - loss: 0.0360 - accuracy: 1.0000 - val_loss: 0.1982 - val_accuracy: 0.9503\n",
      "Epoch 9/10\n",
      "44/44 [==============================] - 1s 34ms/step - loss: 0.0314 - accuracy: 1.0000 - val_loss: 0.1846 - val_accuracy: 0.9482\n",
      "Epoch 10/10\n",
      "44/44 [==============================] - 1s 33ms/step - loss: 0.0257 - accuracy: 1.0000 - val_loss: 0.1889 - val_accuracy: 0.9374\n"
     ]
    }
   ],
   "source": [
    "history_emb = model.fit(X_traintf.toarray(),y_train_hot,epochs=10,validation_split=0.25,verbose=True,batch_size=32)"
   ]
  },
  {
   "cell_type": "code",
   "execution_count": 132,
   "id": "879a65be",
   "metadata": {},
   "outputs": [
    {
     "data": {
      "image/png": "[encoded data removed]",
      "text/plain": [
       "<Figure size 1000x500 with 2 Axes>"
      ]
     },
     "metadata": {},
     "output_type": "display_data"
    }
   ],
   "source": [
    "plot_history(history_emb)"
   ]
  },
  {
   "cell_type": "code",
   "execution_count": 133,
   "id": "a831437c",
   "metadata": {},
   "outputs": [
    {
     "name": "stdout",
     "output_type": "stream",
     "text": [
      "20/20 [==============================] - 0s 4ms/step\n"
     ]
    }
   ],
   "source": [
    "yhat=model.predict(X_testtf.toarray())"
   ]
  },
  {
   "cell_type": "code",
   "execution_count": 134,
   "id": "98e1bd04",
   "metadata": {},
   "outputs": [
    {
     "name": "stdout",
     "output_type": "stream",
     "text": [
      "0: business\t1: entertainment\t2: health\t3: politics\t4: sport\n",
      "\n",
      "INDEX :\t13\t 84\t 132\t 205\t 214\t 237\t 294\t 298\t 315\t 402\t 417\t 426\t 431\t 437\t 467\t 489\t 490\t 511\t 520\t 557\t 564\t 612\t 616\t 617\t \n",
      "TRUE :\t0\t 0\t 0\t 1\t 2\t 0\t 4\t 1\t 3\t 2\t 2\t 0\t 3\t 1\t 0\t 0\t 0\t 2\t 0\t 3\t 4\t 2\t 1\t 0\t \n",
      "PRED :\t3\t 1\t 3\t 2\t 4\t 3\t 2\t 4\t 0\t 1\t 1\t 1\t 2\t 3\t 3\t 3\t 1\t 3\t 3\t 0\t 3\t 0\t 3\t 2\t \n",
      "96.0\n",
      "              precision    recall  f1-score   support\n",
      "\n",
      "           0       0.97      0.92      0.94       121\n",
      "           1       0.95      0.96      0.95        96\n",
      "           2       0.97      0.97      0.97       148\n",
      "           3       0.93      0.98      0.95       133\n",
      "           4       0.98      0.98      0.98       120\n",
      "\n",
      "    accuracy                           0.96       618\n",
      "   macro avg       0.96      0.96      0.96       618\n",
      "weighted avg       0.96      0.96      0.96       618\n",
      "\n"
     ]
    },
    {
     "data": {
      "image/png": "[encoded data removed]",
      "text/plain": [
       "<Figure size 640x480 with 2 Axes>"
      ]
     },
     "metadata": {},
     "output_type": "display_data"
    },
    {
     "name": "stdout",
     "output_type": "stream",
     "text": [
      "\n"
     ]
    }
   ],
   "source": [
    "Find_index(y_test,np.argmax(yhat,axis=1))\n",
    "Evaluation(y_test,np.argmax(yhat,axis=1),np.unique(new_df['Category']))"
   ]
  },
  {
   "cell_type": "code",
   "execution_count": 135,
   "id": "37fe4404",
   "metadata": {},
   "outputs": [
    {
     "name": "stdout",
     "output_type": "stream",
     "text": [
      "1/1 [==============================] - 0s 21ms/step\n",
      "[4]\n"
     ]
    }
   ],
   "source": [
    "t_pre=vectorizer.transform([text_sport])\n",
    "print(np.argmax(model.predict(t_pre.toarray()),axis=1))"
   ]
  }
 ],
 "metadata": {
  "kernelspec": {
   "display_name": "nlp_tf",
   "language": "python",
   "name": "python3"
  },
  "language_info": {
   "codemirror_mode": {
    "name": "ipython",
    "version": 3
   },
   "file_extension": ".py",
   "mimetype": "text/x-python",
   "name": "python",
   "nbconvert_exporter": "python",
   "pygments_lexer": "ipython3",
   "version": "3.9.0"
  }
 },
 "nbformat": 4,
 "nbformat_minor": 5
}
